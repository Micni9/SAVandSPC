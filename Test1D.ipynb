{
 "cells": [
  {
   "attachments": {},
   "cell_type": "markdown",
   "metadata": {
    "id": "vMfCwqY1WSg-"
   },
   "source": [
    "# Default"
   ]
  },
  {
   "cell_type": "code",
   "execution_count": 1,
   "metadata": {
    "id": "XhYDHU_YDBjW"
   },
   "outputs": [],
   "source": [
    "import numpy as np\n",
    "from timeit import default_timer as time\n",
    "import matplotlib.pyplot as plt\n",
    "from init import *\n",
    "from Methods import SAV,SAV2,N_SAV,N_SAV1,N_SAV1b,N_SAV1c,SC,ESAVII,N2_SAV1b"
   ]
  },
  {
   "cell_type": "markdown",
   "metadata": {},
   "source": [
    "$$u_t = \\Delta u-h(u), \\qquad x\\in\\Omega,t\\in[0,T]$$\n",
    "$$f(u) = 100(u^3-u)$$\n",
    "$$\\Omega = [0,2\\pi],\\quad T=20$$\n",
    "Energy: $\\varepsilon(u) = \\int_\\Omega \\frac12\\|\\nabla u\\|^2+F(u)dx$\\\n",
    "Nonlinear term: $\\varepsilon_1(u) = \\int_\\Omega F(u)dx$\n",
    "$$F(u) = 25(u^2-1)^2$$\n",
    "We use $\\Delta t \\in [1/32,1/64,1/128,1/256]$ to check the performance of different schemes.\n",
    "$$(\\Delta v)_i = \\frac{1}{(\\Delta x)^2}(v_{i+1}+v_{i-1}-2v_i)$$\n",
    "\n",
    "Initial value: $u(x,0) = \\sin x$"
   ]
  },
  {
   "cell_type": "code",
   "execution_count": 5,
   "metadata": {},
   "outputs": [],
   "source": [
    "Times = [32,64,128,256]\n",
    "\n",
    "dir = \"Report\""
   ]
  },
  {
   "cell_type": "markdown",
   "metadata": {},
   "source": [
    "# SAV"
   ]
  },
  {
   "cell_type": "markdown",
   "metadata": {},
   "source": [
    "## First-order SAV"
   ]
  },
  {
   "cell_type": "code",
   "execution_count": 6,
   "metadata": {},
   "outputs": [
    {
     "data": {
      "text/plain": [
       "<Figure size 640x480 with 0 Axes>"
      ]
     },
     "metadata": {},
     "output_type": "display_data"
    }
   ],
   "source": [
    "now = 1\n",
    "for times in Times:\n",
    "    dt = 1/times\n",
    "    Nx = times\n",
    "    x = np.linspace(left,right,Nx,endpoint = False)\n",
    "    phi_init = initial(x)\n",
    "    C0 = 0\n",
    "    \n",
    "    (mE_SAV,E_SAV,E1,r,T) = SAV(phi_init,Nx,times*(e_time-s_time),s_time,e_time,left,right,C0)\n",
    "\n",
    "    \n",
    "    path1 = f\"{dir}/SAV_E{now}.png\"\n",
    "    path2 = f\"{dir}/SAV_r{now}.png\"\n",
    "    path3 = f\"{dir}/SAV_dif{now}.png\"\n",
    "    \n",
    "    plt.title(f'Energy at dt = 1/{times}')\n",
    "    plt.plot(T,E_SAV[:-1],'-x')\n",
    "    plt.xlabel(\"t\")\n",
    "    plt.ylabel(\"E\")\n",
    "    plt.savefig(path1)\n",
    "    plt.clf()\n",
    "    \n",
    "    plt.title(f'Modified Energy at dt = 1/{times}')\n",
    "    plt.plot(T,mE_SAV[:-1],'-x')\n",
    "    plt.xlabel(\"t\")\n",
    "    plt.ylabel(\"Modified Energy\")\n",
    "    plt.savefig(path2)\n",
    "    plt.clf()\n",
    "\n",
    "    plt.title(f'r^2-E1 at dt = 1/{times}')\n",
    "    plt.plot(T,(r*r-E1)[:-1],'-x')\n",
    "    plt.xlabel(\"t\")\n",
    "    plt.ylabel(\"r^2-E1\")\n",
    "    plt.savefig(path3)\n",
    "    plt.clf()\n",
    "    now += 1"
   ]
  },
  {
   "attachments": {},
   "cell_type": "markdown",
   "metadata": {},
   "source": [
    "## Second-order SAV"
   ]
  },
  {
   "cell_type": "code",
   "execution_count": 3,
   "metadata": {
    "id": "dle0C1w6Mprb"
   },
   "outputs": [
    {
     "data": {
      "text/plain": [
       "<Figure size 640x480 with 0 Axes>"
      ]
     },
     "metadata": {},
     "output_type": "display_data"
    }
   ],
   "source": [
    "now = 1\n",
    "for times in Times:\n",
    "  dt = 1/times\n",
    "  Nx = times\n",
    "  x = np.linspace(left,right,Nx,endpoint = False)\n",
    "  phi_init = initial(x)\n",
    "  C0 = 0\n",
    "  \n",
    "  (mE_SAV2,E_SAV2,E1,r,T) = SAV2(phi_init,Nx,times*(e_time-s_time),s_time,e_time,left,right,C0)\n",
    "\n",
    "  \n",
    "  path1 = f\"{dir}/SAV2_E{now}.png\"\n",
    "  path2 = f\"{dir}/SAV2_r{now}.png\"\n",
    "  path3 = f\"{dir}/SAV2_dif{now}.png\"\n",
    "  \n",
    "  plt.title(f'Energy at dt = 1/{times}')\n",
    "  plt.plot(T,E_SAV2[:-1],'-x')\n",
    "  plt.xlabel(\"t\")\n",
    "  plt.ylabel(\"E\")\n",
    "  plt.savefig(path1)\n",
    "  plt.clf()\n",
    "  \n",
    "  plt.title(f'Modified Energy at dt = 1/{times}')\n",
    "  plt.plot(T,mE_SAV2[:-1],'-x')\n",
    "  plt.xlabel(\"t\")\n",
    "  plt.ylabel(\"Modified Energy\")\n",
    "  plt.savefig(path2)\n",
    "  plt.clf()\n",
    "\n",
    "  plt.title(f'r^2-E1 at dt = 1/{times}')\n",
    "  plt.plot(T,(r*r-E1)[:-1],'-x')\n",
    "  plt.xlabel(\"t\")\n",
    "  plt.ylabel(\"r^2-E1\")\n",
    "  plt.savefig(path3)\n",
    "  plt.clf()\n",
    "  now += 1"
   ]
  },
  {
   "attachments": {},
   "cell_type": "markdown",
   "metadata": {
    "id": "zKtgaWaaHPlu"
   },
   "source": [
    "# New SAV"
   ]
  },
  {
   "attachments": {},
   "cell_type": "markdown",
   "metadata": {},
   "source": [
    "## New SAV"
   ]
  },
  {
   "cell_type": "code",
   "execution_count": 4,
   "metadata": {},
   "outputs": [
    {
     "data": {
      "text/plain": [
       "<Figure size 640x480 with 0 Axes>"
      ]
     },
     "metadata": {},
     "output_type": "display_data"
    }
   ],
   "source": [
    "now = 1\n",
    "for times in Times:\n",
    "    dt = 1/times\n",
    "    Nx = times\n",
    "    x = np.linspace(left,right,Nx,endpoint = False)\n",
    "    phi_init = initial(x)\n",
    "    \n",
    "    (mE_NSAV,E_NSAV,T) = N_SAV(phi_init,Nx,times*(e_time-s_time),s_time,e_time,left,right)\n",
    "\n",
    "    path1 = f\"{dir}/NSAV_E{now}.png\"\n",
    "    path2 = f\"{dir}/NSAV_q{now}.png\"\n",
    "    path3 = f\"{dir}/NSAV_dif{now}.png\"\n",
    "\n",
    "    plt.plot(T,E_NSAV[:-1],'-x')\n",
    "    plt.title(f'Energy at dt = 1/{times}')\n",
    "    plt.xlabel(\"t\")\n",
    "    plt.ylabel(\"E\")\n",
    "    plt.savefig(path1)\n",
    "    plt.clf()\n",
    "\n",
    "    plt.plot(T,mE_NSAV[:-1],'-x')\n",
    "    plt.title(f'Modified Energy at dt = 1/{times}')\n",
    "    plt.xlabel(\"t\")\n",
    "    plt.ylabel(\"Modified Energy\")\n",
    "    plt.savefig(path2)\n",
    "    plt.clf()\n",
    "\n",
    "    E = np.array(E_NSAV[:-1])\n",
    "    R = np.array(mE_NSAV[:-1])\n",
    "    plt.plot(T,(R-E),'-x')\n",
    "    plt.title(f'q-E at dt = 1/{times}, {(R[-1]-E[-1]):.3f} at {e_time}')\n",
    "    plt.xlabel(\"t\")\n",
    "    plt.ylabel(\"q-E\")\n",
    "    plt.savefig(path3)\n",
    "    plt.clf()\n",
    "    now += 1"
   ]
  },
  {
   "attachments": {},
   "cell_type": "markdown",
   "metadata": {},
   "source": [
    "## New SAV-A"
   ]
  },
  {
   "cell_type": "code",
   "execution_count": 5,
   "metadata": {},
   "outputs": [
    {
     "data": {
      "text/plain": [
       "<Figure size 640x480 with 0 Axes>"
      ]
     },
     "metadata": {},
     "output_type": "display_data"
    }
   ],
   "source": [
    "now = 1\n",
    "for times in Times:\n",
    "    dt = 1/times\n",
    "    Nx = times\n",
    "    x = np.linspace(left,right,Nx,endpoint = False)\n",
    "    phi_init = initial(x)\n",
    "    \n",
    "    C0 = 0\n",
    "    \n",
    "    (mE_NSAV1,E_NSAV1,T) = N_SAV1(phi_init,Nx,times*(e_time-s_time),s_time,e_time,left,right,C0)\n",
    "\n",
    "    path1 = f\"{dir}/NSAVa_E{now}.png\"\n",
    "    path2 = f\"{dir}/NSAVa_q{now}.png\"\n",
    "    path3 = f\"{dir}/NSAVa_dif{now}.png\"\n",
    "\n",
    "    plt.plot(T,E_NSAV1[:-1],'-x')\n",
    "    plt.title(f'Energy at dt = 1/{times}')\n",
    "    plt.xlabel(\"t\")\n",
    "    plt.ylabel(\"E\")\n",
    "    plt.savefig(path1)\n",
    "    plt.clf()\n",
    "\n",
    "    plt.plot(T,mE_NSAV1[:-1],'-x')\n",
    "    plt.title(f'Modified Energy at dt = 1/{times}')\n",
    "    plt.xlabel(\"t\")\n",
    "    plt.ylabel(\"Modified Energy\")\n",
    "    plt.savefig(path2)\n",
    "    plt.clf()\n",
    "    \n",
    "    E = np.array(E_NSAV1[:-1])\n",
    "    q = np.array(mE_NSAV1[:-1])\n",
    "    plt.plot(T,q-E,'-x')\n",
    "    plt.title(f'q-E at dt = 1/{times}')\n",
    "    plt.xlabel(\"t\")\n",
    "    plt.ylabel(\"q-E\")\n",
    "    plt.savefig(path3)\n",
    "    plt.clf()\n",
    "    now += 1"
   ]
  },
  {
   "attachments": {},
   "cell_type": "markdown",
   "metadata": {},
   "source": [
    "## New SAV-B"
   ]
  },
  {
   "cell_type": "code",
   "execution_count": 6,
   "metadata": {},
   "outputs": [
    {
     "data": {
      "text/plain": [
       "<Figure size 640x480 with 0 Axes>"
      ]
     },
     "metadata": {},
     "output_type": "display_data"
    }
   ],
   "source": [
    "now = 1\n",
    "for times in Times:\n",
    "    dt = 1/times\n",
    "    Nx = times\n",
    "    x = np.linspace(left,right,Nx,endpoint = False)\n",
    "    phi_init = initial(x)\n",
    "    \n",
    "    C0 = 0\n",
    "    \n",
    "    (mE_NSAV1b,E_NSAV1b,T) = N_SAV1b(phi_init,Nx,times*(e_time-s_time),s_time,e_time,left,right,C0)\n",
    "\n",
    "    path1 = f\"{dir}/NSAVb_E{now}.png\"\n",
    "    path2 = f\"{dir}/NSAVb_q{now}.png\"\n",
    "    path3 = f\"{dir}/NSAVb_dif{now}.png\"\n",
    "\n",
    "    if now<=3:\n",
    "        plt.plot(T,E_NSAV1b[:-1],'-x')\n",
    "        plt.title(f'Energy at dt = 1/{times}')\n",
    "        plt.xlabel(\"t\")\n",
    "        plt.ylabel(\"E\")\n",
    "        plt.savefig(path1)\n",
    "        plt.clf()\n",
    "\n",
    "        plt.plot(T,mE_NSAV1b[:-1],'-x')\n",
    "        plt.title(f'Modified Energy at dt = 1/{times}')\n",
    "        plt.xlabel(\"t\")\n",
    "        plt.ylabel(\"Modified Energy\")\n",
    "        plt.savefig(path2)\n",
    "        plt.clf()\n",
    "\n",
    "    if now>=2:\n",
    "        E = np.array(E_NSAV1b[:-1])\n",
    "        q = np.array(mE_NSAV1b[:-1])\n",
    "        plt.plot(T,q-E,'-x')\n",
    "        plt.title(f'q-E at dt = 1/{times}')\n",
    "        plt.xlabel(\"t\")\n",
    "        plt.ylabel(\"q-E\")\n",
    "        plt.savefig(path3)\n",
    "        plt.clf()\n",
    "    now += 1"
   ]
  },
  {
   "attachments": {},
   "cell_type": "markdown",
   "metadata": {},
   "source": [
    "## New SAV-C"
   ]
  },
  {
   "cell_type": "code",
   "execution_count": 7,
   "metadata": {},
   "outputs": [
    {
     "data": {
      "text/plain": [
       "<Figure size 640x480 with 0 Axes>"
      ]
     },
     "metadata": {},
     "output_type": "display_data"
    }
   ],
   "source": [
    "now = 1\n",
    "for times in Times:\n",
    "    dt = 1/times\n",
    "    Nx = times\n",
    "    x = np.linspace(left,right,Nx,endpoint = False)\n",
    "    phi_init = initial(x)\n",
    "    \n",
    "    C0 = 0\n",
    "    \n",
    "    (mE_NSAV1c,E_NSAV1c,T) = N_SAV1c(phi_init,Nx,times*(e_time-s_time),s_time,e_time,left,right,C0)\n",
    "\n",
    "    path1 = f\"{dir}/NSAVc_E{now}.png\"\n",
    "    path2 = f\"{dir}/NSAVc_q{now}.png\"\n",
    "    path3 = f\"{dir}/NSAVc_dif{now}.png\"\n",
    "\n",
    "    plt.plot(T,E_NSAV1c[:-1],'-x')\n",
    "    plt.title(f'Energy at dt = 1/{times}')\n",
    "    plt.xlabel(\"t\")\n",
    "    plt.ylabel(\"E\")\n",
    "    plt.savefig(path1)\n",
    "    plt.clf()\n",
    "\n",
    "    plt.plot(T,mE_NSAV1c[:-1],'-x')\n",
    "    plt.title(f'Modified Energy at dt = 1/{times}')\n",
    "    plt.xlabel(\"t\")\n",
    "    plt.ylabel(\"Modified Energy\")\n",
    "    plt.savefig(path2)\n",
    "    plt.clf()\n",
    "    \n",
    "    E = np.array(E_NSAV1c[:-1])\n",
    "    q = np.array(mE_NSAV1c[:-1])\n",
    "    plt.plot(T,q-E,'-x')\n",
    "    plt.title(f'q-E at dt = 1/{times}')\n",
    "    plt.xlabel(\"t\")\n",
    "    plt.ylabel(\"q-E\")\n",
    "    plt.savefig(path3)\n",
    "    plt.clf()\n",
    "    \n",
    "    now += 1"
   ]
  },
  {
   "attachments": {},
   "cell_type": "markdown",
   "metadata": {},
   "source": [
    "## 2nd New SAV-B"
   ]
  },
  {
   "cell_type": "code",
   "execution_count": 10,
   "metadata": {},
   "outputs": [
    {
     "data": {
      "text/plain": [
       "<Figure size 640x480 with 0 Axes>"
      ]
     },
     "metadata": {},
     "output_type": "display_data"
    }
   ],
   "source": [
    "now = 1\n",
    "for times in Times:\n",
    "    dt = 1/times\n",
    "    Nx = times\n",
    "    x = np.linspace(left,right,Nx,endpoint = False)\n",
    "    phi_init = initial(x)\n",
    "    \n",
    "    C0 = 0\n",
    "    \n",
    "    (mE_NSAVb2,E_NSAVb2,T) = N2_SAV1b(phi_init,Nx,times*(e_time-s_time),s_time,e_time,left,right,C0)\n",
    "\n",
    "    path1 = f\"{dir}/NSAVb2_E{now}.png\"\n",
    "    path2 = f\"{dir}/NSAVb2_q{now}.png\"\n",
    "    path3 = f\"{dir}/NSAVb2_dif{now}.png\"\n",
    "\n",
    "    plt.plot(T,E_NSAVb2[:-1],'-x')\n",
    "    plt.title(f'Energy at dt = 1/{times}')\n",
    "    plt.xlabel(\"t\")\n",
    "    plt.ylabel(\"E\")\n",
    "    plt.savefig(path1)\n",
    "    plt.clf()\n",
    "\n",
    "    plt.plot(T,mE_NSAVb2[:-1],'-x')\n",
    "    plt.title(f'Modified Energy at dt = 1/{times}')\n",
    "    plt.xlabel(\"t\")\n",
    "    plt.ylabel(\"Modified Energy\")\n",
    "    plt.savefig(path2)\n",
    "    plt.clf()\n",
    "\n",
    "    E = np.array(E_NSAVb2[:-1])\n",
    "    q = np.array(mE_NSAVb2[:-1])\n",
    "    plt.plot(T,q-E,'-x')\n",
    "    plt.title(f'q-E at dt = 1/{times}')\n",
    "    plt.xlabel(\"t\")\n",
    "    plt.ylabel(\"q-E\")\n",
    "    plt.savefig(path3)\n",
    "    plt.clf()\n",
    "    now += 1"
   ]
  },
  {
   "cell_type": "markdown",
   "metadata": {},
   "source": [
    "# Exponential SAV"
   ]
  },
  {
   "attachments": {},
   "cell_type": "markdown",
   "metadata": {},
   "source": [
    "## Second order E-SAV"
   ]
  },
  {
   "cell_type": "code",
   "execution_count": 11,
   "metadata": {},
   "outputs": [
    {
     "data": {
      "text/plain": [
       "<Figure size 640x480 with 0 Axes>"
      ]
     },
     "metadata": {},
     "output_type": "display_data"
    }
   ],
   "source": [
    "now = 1\n",
    "for times in Times:\n",
    "    dt = 1/times\n",
    "    Nx = times\n",
    "    x = np.linspace(left,right,Nx,endpoint = False)\n",
    "    phi_init = initial(x)\n",
    "    \n",
    "    C1 = 30\n",
    "    \n",
    "    (mE_ESAV,E_ESAV,E1,s,T) = ESAVII(phi_init,Nx,times*(e_time-s_time),s_time,e_time,left,right,C1)\n",
    "\n",
    "    path1 = f\"{dir}/ESAV2_E{now}.png\"\n",
    "    path2 = f\"{dir}/ESAV2_s{now}.png\"\n",
    "    path3 = f\"{dir}/ESAV2_dif{now}.png\"\n",
    "    \n",
    "    mE = np.array(mE_ESAV[:-1])\n",
    "    E = np.array(E_ESAV[:-1])\n",
    "\n",
    "    plt.plot(T,E_ESAV[:-1],'-x')\n",
    "    plt.title(f'Energy at dt = 1/{times}')\n",
    "    plt.xlabel(\"t\")\n",
    "    plt.ylabel(\"E\")\n",
    "    plt.savefig(path1)\n",
    "    plt.clf()\n",
    "\n",
    "    plt.plot(T,mE_ESAV[:-1],'-x')\n",
    "    plt.title(f'Modified Energy at dt = 1/{times}')\n",
    "    plt.xlabel(\"t\")\n",
    "    plt.ylabel(\"E\")\n",
    "    plt.savefig(path2)\n",
    "    plt.clf()\n",
    "\n",
    "    plt.plot(T,mE-E,'-x')\n",
    "    plt.title(f'Cln s-E1 at dt = 1/{times}')\n",
    "    plt.xlabel(\"t\")\n",
    "    plt.ylabel(\"Cln s-E1\")\n",
    "    plt.savefig(path3)\n",
    "    plt.clf()\n",
    "    now += 1 "
   ]
  },
  {
   "attachments": {},
   "cell_type": "markdown",
   "metadata": {},
   "source": [
    "# Stabilized Predictor-Corrector Method"
   ]
  },
  {
   "cell_type": "code",
   "execution_count": 12,
   "metadata": {},
   "outputs": [
    {
     "data": {
      "text/plain": [
       "<Figure size 640x480 with 0 Axes>"
      ]
     },
     "metadata": {},
     "output_type": "display_data"
    }
   ],
   "source": [
    "#Scheme C\n",
    "now = 1\n",
    "for times in Times:\n",
    "    dt = 1/times\n",
    "    Nx = times\n",
    "    x = np.linspace(left,right,Nx,endpoint = False)\n",
    "    phi_init = initial(x)\n",
    "    \n",
    "    #M=A+LI\n",
    "    L = 200\n",
    "    (E_SC,T) = SC(phi_init,Nx,times*(e_time-s_time),s_time,e_time,left,right,L)\n",
    "\n",
    "    path1 = f\"{dir}/SC_E{now}.png\"\n",
    "    \n",
    "    plt.title(f'Energy at dt = 1/{times}')\n",
    "    plt.plot(T,E_SC[:-1],'-x')\n",
    "    plt.xlabel(\"t\")\n",
    "    plt.ylabel(\"E\")\n",
    "    plt.savefig(path1)\n",
    "    plt.clf()\n",
    "    \n",
    "    now += 1"
   ]
  },
  {
   "cell_type": "code",
   "execution_count": 4,
   "metadata": {},
   "outputs": [
    {
     "data": {
      "text/plain": [
       "2.4303110692945453"
      ]
     },
     "execution_count": 4,
     "metadata": {},
     "output_type": "execute_result"
    }
   ],
   "source": [
    "np.log2(8.1094/1.5045)"
   ]
  }
 ],
 "metadata": {
  "accelerator": "TPU",
  "colab": {
   "provenance": [],
   "toc_visible": true
  },
  "gpuClass": "standard",
  "kernelspec": {
   "display_name": "Python 3 (ipykernel)",
   "language": "python",
   "name": "python3"
  },
  "language_info": {
   "codemirror_mode": {
    "name": "ipython",
    "version": 3
   },
   "file_extension": ".py",
   "mimetype": "text/x-python",
   "name": "python",
   "nbconvert_exporter": "python",
   "pygments_lexer": "ipython3",
   "version": "3.11.4"
  }
 },
 "nbformat": 4,
 "nbformat_minor": 4
}
