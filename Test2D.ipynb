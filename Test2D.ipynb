{
 "cells": [
  {
   "cell_type": "markdown",
   "metadata": {},
   "source": [
    "# Initialization"
   ]
  },
  {
   "cell_type": "markdown",
   "metadata": {},
   "source": [
    "$$u_t = \\Delta u-h(u), \\qquad x\\in\\Omega,t\\in[0,T]$$\n",
    "$$f(u) = 100(u^3-u)$$\n",
    "$$\\Omega = [0,2\\pi]^2,\\quad T=5$$\n",
    "Energy: $\\varepsilon(u) = \\int_\\Omega \\frac12\\|\\nabla u\\|^2+F(u)dx$\\\n",
    "Nonlinear term: $\\varepsilon_1(u) = \\int_\\Omega F(u)dx$\n",
    "$$F(u) = 25(u^2-1)^2$$\n",
    "We use $\\Delta t \\in [1/512,1/1024]$ to verify the convergence of Modified Energy.\n",
    "$$(\\Delta v)_{i,j} = \\frac{1}{(\\Delta x)^2 (\\Delta y)^2}(v_{i+1,j}+v_{i-1,j}+v_{i,j+1}+v_{i,j-1}-4v_{i,j})$$\n",
    "\n",
    "Initial value: $u(x,y,0) = 0.05\\sin x\\sin y$"
   ]
  },
  {
   "cell_type": "code",
   "execution_count": 2,
   "metadata": {},
   "outputs": [],
   "source": [
    "import numpy as np\n",
    "\n",
    "#Original Solution\n",
    "left = 0\n",
    "right = 2 * np.pi\n",
    "s_time = 0\n",
    "e_time = 10\n",
    "\n",
    "Times = [512,1024]"
   ]
  },
  {
   "cell_type": "markdown",
   "metadata": {},
   "source": [
    "# Start Simulation"
   ]
  },
  {
   "cell_type": "markdown",
   "metadata": {},
   "source": [
    "## SAV"
   ]
  },
  {
   "cell_type": "markdown",
   "metadata": {},
   "source": [
    "The second order SAV scheme:\\\n",
    "Auxiliary Variable: $r(t) = \\sqrt{\\varepsilon_1(u(t))}$\n",
    "$$\n",
    "\\left\\lbrace\n",
    "\\begin{array}{cl}\n",
    "\\frac{u^{n+1}-u^n}{\\Delta t} &= -\\Delta (\\frac{u^{n+1}+u^n}{2}) - \\frac{r^{n+1}+r^n}{2\\sqrt{\\varepsilon_1(u^{n+\\frac12}}}f(u^{n+\\frac12})\\\\\n",
    "\\frac{r^{n+1}-r^n}{\\Delta t} &= \\frac{r^{n+1}+r^n}{2\\sqrt{\\varepsilon_1(u^{n+\\frac12})}}<f(u),\\frac{u^{n+1}-u^n}{\\Delta t}>\n",
    "\\end{array}\n",
    "\\right.\n",
    "$$\n",
    "Modified Energy: $\\tilde\\varepsilon(u,r) = \\int_\\Omega\\frac12\\|\\nabla u\\|^2dx + r^2$"
   ]
  },
  {
   "cell_type": "code",
   "execution_count": 3,
   "metadata": {},
   "outputs": [
    {
     "name": "stdout",
     "output_type": "stream",
     "text": [
      "SAV: 2.9058765452933812\t0.7121977554778027\n"
     ]
    }
   ],
   "source": [
    "SAV2_dif = [0, 0]\n",
    "now = 0\n",
    "for times in Times:\n",
    "    Nx = times\n",
    "    Ny = times\n",
    "    x = np.linspace(left,right,Nx,endpoint = False)\n",
    "    y = np.linspace(left,right,Ny,endpoint = False)\n",
    "    X, Y = np.meshgrid(x,y)\n",
    "\n",
    "    phi_init = phi0(X,Y)\n",
    "    C0 = 0\n",
    "\n",
    "    (mE_SAV2,E_SAV2,T) = SAV2(phi_init,Nx,Ny,times*(e_time-s_time),s_time,e_time,left,right,C0)\n",
    "    SAV2_dif[now] = np.max(np.abs(mE_SAV2-E_SAV2))\n",
    "    \n",
    "    now += 1\n",
    "print(f'SAV: {SAV2_dif[0]}\\t{SAV2_dif[1]}')\n"
   ]
  },
  {
   "cell_type": "markdown",
   "metadata": {},
   "source": [
    "## E-SAV"
   ]
  },
  {
   "cell_type": "markdown",
   "metadata": {},
   "source": [
    "The second order E-SAV scheme:\\\n",
    "Auxiliary Variable: $s(t) = \\exp{\\varepsilon_1(u(t))/C}$\n",
    "$$\n",
    "\\left\\lbrace\n",
    "\\begin{array}{cl}\n",
    "\\frac{u^{n+1}-u^n}{\\Delta t} &= -\\Delta u^{n+1} - \\frac{s^{n+\\frac12}}{\\exp(\\varepsilon_1(u^{n+\\frac12})/C)}f(u^{n+\\frac12})\\\\\n",
    "\\frac{\\ln s^{n+1}-\\ln s^n}{\\Delta t} &= \\frac{s^{n+\\frac12}}{\\exp(\\varepsilon_1(u^{n+\\frac12})/C)}<f(u),\\frac{u^{n+1}-u^n}{\\Delta t}>\n",
    "\\end{array}\n",
    "\\right.\n",
    "$$\n",
    "Modified Energy: $\\tilde\\varepsilon(u,s) = \\int_\\Omega\\frac12\\|\\nabla u\\|^2dx + C\\ln s$\\\n",
    "We use $C=300$"
   ]
  },
  {
   "cell_type": "code",
   "execution_count": 4,
   "metadata": {},
   "outputs": [
    {
     "name": "stdout",
     "output_type": "stream",
     "text": [
      "E-SAV: 5.312986380740085\t1.283571072248435\n"
     ]
    }
   ],
   "source": [
    "ESAV2_dif = [0, 0]\n",
    "now = 0\n",
    "for times in Times:\n",
    "    Nx = times\n",
    "    Ny = times\n",
    "    x = np.linspace(left,right,Nx,endpoint = False)\n",
    "    y = np.linspace(left,right,Ny,endpoint = False)\n",
    "    X, Y = np.meshgrid(x,y)\n",
    "\n",
    "    phi_init = phi0(X,Y)\n",
    "    C1 = 300\n",
    "    \n",
    "    (mE_ESAV2,E_ESAV2,T) = ESAV2(phi_init,Nx,Ny,times*(e_time-s_time),s_time,e_time,left,right,C1)\n",
    "    ESAV2_dif[now] = np.max(np.abs(mE_ESAV2-E_ESAV2))\n",
    "    \n",
    "    now += 1\n",
    "print(f'E-SAV: {ESAV2_dif[0]}\\t{ESAV2_dif[1]}')"
   ]
  },
  {
   "cell_type": "markdown",
   "metadata": {},
   "source": [
    "## New SAV-B"
   ]
  },
  {
   "cell_type": "markdown",
   "metadata": {},
   "source": [
    "The second order New SAV-B scheme:\\\n",
    "Auxiliary Variable: $q(t) = \\varepsilon(u(t))$\n",
    "$$\n",
    "\\left\\lbrace\n",
    "\\begin{array}{cl}\n",
    "\\frac{u^{n+1}-u^n}{\\Delta t} &= -\\mu^{n+1}\\\\\n",
    "\\mu^{n+1} &= -\\Delta (\\frac{u^{n+1}+u^n}{2})+\\frac{q^{n+\\frac12}}{\\varepsilon(u^{n+\\frac12})}f(u^{n+\\frac12})\\\\\n",
    "\\frac{q^{n+1}-q^n}{\\Delta t} &= -\\frac{q^{n+1}+q^n}{2\\varepsilon(u^{n+\\frac12})}\\|\\mu^{n+1}\\|^2\n",
    "\\end{array}\n",
    "\\right.\n",
    "$$\n",
    "Modified Energy: $\\tilde\\varepsilon(u,q) = q$"
   ]
  },
  {
   "cell_type": "code",
   "execution_count": 3,
   "metadata": {},
   "outputs": [
    {
     "name": "stdout",
     "output_type": "stream",
     "text": [
      "New SAV-B: 1.504489871925216\t0.3677158768513209\n"
     ]
    }
   ],
   "source": [
    "NSAVb2_dif = [0, 0]\n",
    "now = 0\n",
    "\n",
    "for times in Times:\n",
    "    Nx = times\n",
    "    Ny = times\n",
    "    x = np.linspace(left,right,Nx,endpoint = False)\n",
    "    y = np.linspace(left,right,Ny,endpoint = False)\n",
    "    X, Y = np.meshgrid(x,y)\n",
    "\n",
    "    phi_init = phi0(X,Y)\n",
    "    C0 = 0\n",
    "    \n",
    "    (mE_NSAVb2,E_NSAVb2,T) = NSAVb2(phi_init,Nx,Ny,times*(e_time-s_time),s_time,e_time,left,right,C0)\n",
    "    NSAVb2_dif[now] = np.max(np.abs(mE_NSAVb2-E_NSAVb2))\n",
    "    \n",
    "    now += 1\n",
    "\n",
    "print(f'New SAV-B: {NSAVb2_dif[0]}\\t{NSAVb2_dif[1]}')"
   ]
  },
  {
   "cell_type": "code",
   "execution_count": 6,
   "metadata": {},
   "outputs": [
    {
     "name": "stdout",
     "output_type": "stream",
     "text": [
      "NSAVb2: 2.0326110204503833\n"
     ]
    }
   ],
   "source": [
    "O1 = np.log2(SAV2_dif[0]/ SAV2_dif[1])\n",
    "O2 = np.log2(ESAV2_dif[0]/ ESAV2_dif[1])\n",
    "O3 = np.log2(NSAVb2_dif[0]/ NSAVb2_dif[1])"
   ]
  },
  {
   "cell_type": "code",
   "execution_count": 7,
   "metadata": {},
   "outputs": [
    {
     "name": "stdout",
     "output_type": "stream",
     "text": [
      "NSAVb2: 2.0326110204503833\n"
     ]
    }
   ],
   "source": [
    "print(f'SAV: {O1}')\n",
    "print(f'ESAV: {O2}')\n",
    "print(f'NSAVb2: {O3}')"
   ]
  },
  {
   "cell_type": "markdown",
   "metadata": {},
   "source": [
    "# Function Definition"
   ]
  },
  {
   "cell_type": "code",
   "execution_count": 1,
   "metadata": {},
   "outputs": [],
   "source": [
    "def phi0(X,Y):\n",
    "    return 0.05*np.sin(X)*np.sin(Y)\n",
    "\n",
    "def F(phi):\n",
    "    temp = phi*phi -1\n",
    "    return 25 * temp*temp\n",
    "\n",
    "def f(phi):\n",
    "    return 100 * phi * (phi*phi - 1)\n",
    "\n",
    "def L1(v,dx,dy):#the minus laplacian operator for periodic boundary condition\n",
    "    B = 2 * v\n",
    "    B[1:] -= v[:-1]\n",
    "    B[:-1] -= v[1:]\n",
    "    B[0] -= v[-1]\n",
    "    B[-1] -= v[0]\n",
    "    B /= dy*dy\n",
    "    C = 2 * v\n",
    "    C[:,1:] -= v[:,:-1]\n",
    "    C[:,:-1] -= v[:,1:]\n",
    "    C[:,0] -= v[:,-1]\n",
    "    C[:,-1] -= v[:,0]\n",
    "    C /= dx*dx\n",
    "    return B+C\n",
    "\n",
    "def v_prod(u,v,dx,dy):\n",
    "    return dx*dy*np.vdot(u,v)\n",
    "\n",
    "def Energy(phi,dx,dy):\n",
    "    return 0.5*v_prod(phi,L1(phi,dx,dy),dx,dy)+dx*dy*np.sum(F(phi))\n",
    "\n",
    "#2nd order SAV\n",
    "def SAV2(phi_init,Nx,Ny,times,s_time, e_time, left, right, C0):\n",
    "    dt = (e_time-s_time)/times\n",
    "    T = s_time + np.arange(times)*dt\n",
    "    x,dx = np.linspace(left,right,Nx,retstep=True, endpoint=False)\n",
    "    y,dy = np.linspace(left,right,Ny,retstep=True, endpoint=False)\n",
    "    X,Y = np.meshgrid(x,y)\n",
    "\n",
    "    # initial value\n",
    "    phi0 = phi_init\n",
    "    E1 = dx*dy*np.sum(F(phi0))\n",
    "    E = [v_prod(phi0,L1(phi0,dx,dy),dx,dy)/2 + E1]\n",
    "    E_bar = E.copy()\n",
    "    r0 = np.sqrt(E1+C0)\n",
    "    m = np.arange(Nx//2+1)\n",
    "    n = np.arange(Ny)\n",
    "\n",
    "    #eigenvalue of RFFT 2d\n",
    "    l1 = 2 / dx * np.sin(m * np.pi / Nx)\n",
    "    l1 = - l1 * l1\n",
    "    l2 = 2 / dy * np.sin(n * np.pi / Ny)\n",
    "    l2 = - l2 * l2\n",
    "\n",
    "    c = 2/dt\n",
    "    l1, l2 = np.meshgrid(l1,l2)\n",
    "    l = l1 + l2 - c #eigenvalue of (-L-1/dt)(-(I-dtGL)/dt)\n",
    "    #Solve\n",
    "    \n",
    "    B = f(phi0)-2*phi0/dt\n",
    "    B_hat = np.fft.rfft2(B)\n",
    "    temp = B_hat/l\n",
    "    phi_bar = np.fft.irfft2(temp)\n",
    "    \n",
    "    for t in T:\n",
    "        temp = dx*dy*np.sum(F(phi_bar))\n",
    "        B = f(phi_bar)/np.sqrt(temp+C0)\n",
    "        v = -B/2\n",
    "        C = 2*B*r0+v*v_prod(B,phi0,dx,dy)-2*phi0/dt+L1(phi0,dx,dy)\n",
    "\n",
    "        B_hat = np.fft.rfft2(B)\n",
    "        temp = B_hat/l\n",
    "        b = np.fft.irfft2(temp)\n",
    "        C_hat = np.fft.rfft2(C)\n",
    "        temp = C_hat/l\n",
    "        gamma = np.fft.irfft2(temp)\n",
    "\n",
    "        phi1 = gamma - v_prod(v,gamma,dx,dy) /(1+v_prod(v,b,dx,dy))*b\n",
    "        r1 = v_prod(B,phi1-phi0,dx,dy)/2 + r0\n",
    "        phi_bar = (3*phi1-phi0)/2\n",
    "        \n",
    "        E0 = v_prod(phi1,L1(phi1,dx,dy),dx,dy)/2\n",
    "        E1 = dx*dy*np.sum(F(phi1))\n",
    "        E.append(E0 + E1)\n",
    "        E_bar.append(E0 + r1 * r1 - C0)\n",
    "        phi0 = phi1\n",
    "        r0 = r1\n",
    "        \n",
    "    return (np.array(E_bar),np.array(E),T)\n",
    "\n",
    "#Stabilized Preditor-Corrector Method, M=-Delta\n",
    "def SPC(phi_init,Nx,Ny,times,s_time, e_time, left, right,L):\n",
    "    dt = (e_time-s_time)/times\n",
    "    T = s_time + np.arange(times)*dt\n",
    "    x,dx = np.linspace(left,right,Nx,retstep=True, endpoint=False)\n",
    "    y,dy = np.linspace(left,right,Ny,retstep=True, endpoint=False)\n",
    "    X,Y = np.meshgrid(x,y)\n",
    "\n",
    "    # initial value\n",
    "    phi0 = phi_init\n",
    "    phi = [phi0]\n",
    "    E1 = dx*dy*np.sum(F(phi0))\n",
    "    E = [v_prod(phi[0],L1(phi0,dx,dy),dx,dy)/2 + E1]\n",
    "    E_bar = E.copy()\n",
    "    m = np.arange(Nx//2+1)\n",
    "    n = np.arange(Ny)\n",
    "    \n",
    "    LL = L*L\n",
    "    \n",
    "    #eigenvalue of RFFT 2d\n",
    "    l1 = 2 / dx * np.sin(m * np.pi / Nx)\n",
    "    l1 = - l1 * l1\n",
    "    l2 = 2 / dy * np.sin(n * np.pi / Ny)\n",
    "    l2 = - l2 * l2\n",
    "\n",
    "    c = 2/dt + LL\n",
    "    l1, l2 = np.meshgrid(l1,l2)\n",
    "    l = l1 + l2 - c #eigenvalue of (-L-2/dt-L^2)(-(I-dtGL)/dt)\n",
    "\n",
    "    for t in T:\n",
    "        b = f(phi0)-2*phi0/dt-LL*phi0\n",
    "        b_hat = np.fft.rfft2(b)\n",
    "        temp = b_hat/l\n",
    "        phi_h = np.fft.irfft2(temp)\n",
    "        \n",
    "        b = 2*f(phi_h)-2*phi0/dt - 2*LL*phi_h + L1(phi0,dx,dy)+LL*phi0\n",
    "        b_hat = np.fft.rfft2(b)\n",
    "        temp = b_hat/l\n",
    "        phi1 = np.fft.irfft2(temp)\n",
    "        \n",
    "        phi.append(phi1)\n",
    "        \n",
    "        E0 = v_prod(phi1,L1(phi1,dx,dy),dx,dy)/2\n",
    "        E1 = dx*dy*np.sum(F(phi1))\n",
    "        E.append(E0 + E1)\n",
    "        phi0 = phi1\n",
    "        \n",
    "    return (np.array(E),T)\n",
    "\n",
    "def ESAV2(phi_init,Nx,Ny,times,s_time,e_time,left,right,C0):\n",
    "    dt = (e_time-s_time)/times\n",
    "    T = np.arange(times)*dt\n",
    "    x,dx = np.linspace(left,right,Nx,retstep=True, endpoint=False)\n",
    "    y,dy = np.linspace(left,right,Ny,retstep=True, endpoint=False)\n",
    "    X,Y = np.meshgrid(x,y)\n",
    "\n",
    "    # initial value\n",
    "    phi0 = phi_init\n",
    "\n",
    "    E1 = dx*dy * np.sum(F(phi0))\n",
    "    E = [v_prod(phi0,L1(phi0,dx,dy),dx,dy)/2 + E1]\n",
    "    E_bar = E.copy()\n",
    "    s0 = np.exp(E1/C0)\n",
    "    \n",
    "    m = np.arange(Nx//2+1)\n",
    "    n = np.arange(Ny)\n",
    "    #eigenvalue of RFFT 2d\n",
    "    l1 = 2 / dx * np.sin(m * np.pi / Nx)\n",
    "    l1 = - l1 * l1\n",
    "    l2 = 2 / dy * np.sin(n * np.pi / Ny)\n",
    "    l2 = - l2 * l2\n",
    "\n",
    "    c = 2/dt\n",
    "    l1, l2 = np.meshgrid(l1,l2)\n",
    "    l = l1 + l2 - c #eigenvalue of (-L-2/dt)(-(2-dtGL)/dt)\n",
    "    \n",
    "    #Inverse of (1-\\frac12dt)\n",
    "    B = f(phi0)-2*phi0/dt\n",
    "    B_hat = np.fft.rfft2(B)\n",
    "    temp = B_hat/l\n",
    "    phi_half = np.fft.irfft2(temp)\n",
    "    \n",
    "    s_half = np.exp(dx*dy*np.sum(F(phi_half))/C0)\n",
    "    b = f(phi_half)\n",
    "    #Solve\n",
    "    for t in T:\n",
    "        B = -2*phi0/dt+2*b+L1(phi0,dx,dy)\n",
    "        B_hat = np.fft.rfft2(B)\n",
    "        temp = B_hat/l\n",
    "        phi1 = np.fft.irfft2(temp)\n",
    "        \n",
    "        s1 = s0*np.exp(v_prod(b,phi1-phi0,dx,dy)/C0)\n",
    "        E1 = dx*dy*np.sum(F(phi1))\n",
    "        E0 = v_prod(phi1,L1(phi1,dx,dy),dx,dy)/2\n",
    "        E.append(E0 + E1)\n",
    "\n",
    "        phi_half = (3*phi1-phi0)/2\n",
    "        phi0 = phi1\n",
    "        s_half = (3*s1-s0)/2\n",
    "        s0 = s1\n",
    "        \n",
    "        E_bar.append(E0 + C0*np.log(s1))\n",
    "        b = s_half*np.exp(-dx*dy*np.sum(F(phi_half))/C0) * f(phi_half)\n",
    "        \n",
    "    return (np.array(E_bar),np.array(E),T)\n",
    "\n",
    "def NSAVb2(phi_init,Nx,Ny,times,s_time,e_time,left,right,C0):\n",
    "    dt = (e_time-s_time)/times\n",
    "    T = s_time + np.arange(times)*dt\n",
    "    x, dx = np.linspace(left,right,Nx,retstep = True, endpoint = False)\n",
    "    y, dy = np.linspace(left,right,Ny,retstep = True, endpoint = False)\n",
    "    \n",
    "    X,Y = np.meshgrid(x,y)\n",
    "\n",
    "    # initial value\n",
    "    phi0 = phi_init\n",
    "    E = [Energy(phi0,dx,dy)]\n",
    "    E_bar = E.copy()\n",
    "    q = E[0] + C0\n",
    "    xi = 1\n",
    "    m = np.arange(Nx//2+1)\n",
    "    n = np.arange(Ny)\n",
    "\n",
    "    #eigenvalue of RFFT 2d\n",
    "    l1 = 2 / dx * np.sin(m * np.pi / Nx)\n",
    "    l1 = - l1 * l1\n",
    "    l2 = 2 / dy * np.sin(n * np.pi / Ny)\n",
    "    l2 = - l2 * l2\n",
    "\n",
    "    c = 2/dt\n",
    "    l1, l2 = np.meshgrid(l1,l2)\n",
    "    l = l1 + l2 - c #eigenvalue of (-L-1/dt)\n",
    "    b_hat = np.fft.rfft2(xi*f(phi0)-2*phi0/dt)\n",
    "    phi_hat = b_hat/l\n",
    "    phi_h = np.fft.irfft2(phi_hat)\n",
    "\n",
    "    #Solve\n",
    "    for t in T:\n",
    "        mu = L1(phi_h,dx,dy)+xi*f(phi0)\n",
    "        E_h = Energy(phi_h,dx,dy)\n",
    "        q_h = 2*q/(2+dt/(E_h+C0)*v_prod(mu,mu,dx,dy))\n",
    "        xi_h = q_h/(E_h+C0)\n",
    "        \n",
    "        b_hat = np.fft.rfft2(2*xi_h*f(phi_h) - 2*phi0/dt + L1(phi0,dx,dy))\n",
    "        phi_hat = b_hat/l\n",
    "        phi1 = np.fft.irfft2(phi_hat)\n",
    "        mu = L1((phi0+phi1)/2,dx,dy)+xi_h*f(phi_h)\n",
    "        q = q - dt*xi_h*v_prod(mu,mu,dx,dy)\n",
    "\n",
    "        E.append(Energy(phi1,dx,dy))\n",
    "        E_bar.append(q-C0)\n",
    "        phi_h = (3*phi1-phi0)/2\n",
    "        phi0 = phi1\n",
    "        xi = q/(E[-1]+C0)\n",
    "\n",
    "    return (np.array(E_bar),np.array(E),T)"
   ]
  },
  {
   "cell_type": "code",
   "execution_count": 22,
   "metadata": {},
   "outputs": [],
   "source": [
    "globals().clear()"
   ]
  }
 ],
 "metadata": {
  "kernelspec": {
   "display_name": "Python 3 (ipykernel)",
   "language": "python",
   "name": "python3"
  },
  "language_info": {
   "codemirror_mode": {
    "name": "ipython",
    "version": 3
   },
   "file_extension": ".py",
   "mimetype": "text/x-python",
   "name": "python",
   "nbconvert_exporter": "python",
   "pygments_lexer": "ipython3",
   "version": "3.11.4"
  }
 },
 "nbformat": 4,
 "nbformat_minor": 4
}
