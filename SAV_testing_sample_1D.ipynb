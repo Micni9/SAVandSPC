{
  "cells": [
    {
      "attachments": {},
      "cell_type": "markdown",
      "metadata": {
        "id": "vMfCwqY1WSg-"
      },
      "source": [
        "# Default"
      ]
    },
    {
      "cell_type": "code",
      "execution_count": 1,
      "metadata": {
        "id": "XhYDHU_YDBjW"
      },
      "outputs": [],
      "source": [
        "import numpy as np\n",
        "from timeit import default_timer as time\n",
        "import matplotlib.pyplot as plt\n",
        "from init import *\n",
        "from Methods import *"
      ]
    },
    {
      "attachments": {},
      "cell_type": "markdown",
      "metadata": {
        "id": "qlxBa6AjHMjo"
      },
      "source": [
        "# Original"
      ]
    },
    {
      "cell_type": "code",
      "execution_count": 2,
      "metadata": {},
      "outputs": [
        {
          "data": {
            "text/plain": [
              "<Figure size 640x480 with 0 Axes>"
            ]
          },
          "metadata": {},
          "output_type": "display_data"
        }
      ],
      "source": [
        "#Sample Solution\n",
        "sample_times = 40000\n",
        "Nx = sample_times\n",
        "x = np.linspace(left,right,Nx,endpoint = False)\n",
        "phi_init = initial(x)\n",
        "\n",
        "(E_e,T_e) = Solution(phi_init,Nx,sample_times,s_time,e_time,left,right)\n",
        "dt_inv = (int)(sample_times/(e_time-s_time))\n",
        "plt.plot(T_e,E_e[:-1])\n",
        "plt.title(f'Original Solution at dt = 1/{dt_inv}')\n",
        "plt.ylabel('Energy')\n",
        "plt.xlabel('t')\n",
        "plt.savefig(\"Original/a0.png\")\n",
        "plt.clf()"
      ]
    },
    {
      "cell_type": "code",
      "execution_count": 3,
      "metadata": {},
      "outputs": [
        {
          "name": "stdout",
          "output_type": "stream",
          "text": [
            "error! at t=0.625 in phi\n",
            "error! at t=0.9375 in phi\n",
            "error! at t=1.25 in phi\n"
          ]
        },
        {
          "name": "stderr",
          "output_type": "stream",
          "text": [
            "E:\\清大\\Paper\\Code\\init.py:11: RuntimeWarning: overflow encountered in multiply\n",
            "  return 25 * temp*temp\n",
            "E:\\清大\\Paper\\Code\\init.py:14: RuntimeWarning: overflow encountered in multiply\n",
            "  return 100 * phi * (phi*phi - 1)\n"
          ]
        },
        {
          "name": "stdout",
          "output_type": "stream",
          "text": [
            "error! at t=0.3125 in phi\n",
            "error! at t=0.46875 in phi\n",
            "error! at t=0.625 in phi\n",
            "error! at t=0.78125 in phi\n"
          ]
        },
        {
          "name": "stderr",
          "output_type": "stream",
          "text": [
            "E:\\清大\\Paper\\Code\\init.py:10: RuntimeWarning: overflow encountered in multiply\n",
            "  temp = phi*phi -1\n"
          ]
        },
        {
          "name": "stdout",
          "output_type": "stream",
          "text": [
            "error! at t=0.234375 in phi\n",
            "error! at t=0.3125 in phi\n",
            "error! at t=0.390625 in phi\n",
            "error! at t=0.1171875 in phi\n",
            "error! at t=0.15625 in phi\n",
            "error! at t=0.1953125 in phi\n"
          ]
        },
        {
          "name": "stderr",
          "output_type": "stream",
          "text": [
            "E:\\清大\\Paper\\Code\\init.py:38: RuntimeWarning: invalid value encountered in divide\n",
            "  u_hat = b_hat/l\n"
          ]
        },
        {
          "ename": "KeyboardInterrupt",
          "evalue": "",
          "output_type": "error",
          "traceback": [
            "\u001b[1;31m---------------------------------------------------------------------------\u001b[0m",
            "\u001b[1;31mKeyboardInterrupt\u001b[0m                         Traceback (most recent call last)",
            "Cell \u001b[1;32mIn[3], line 10\u001b[0m\n\u001b[0;32m      7\u001b[0m x \u001b[38;5;241m=\u001b[39m np\u001b[38;5;241m.\u001b[39mlinspace(left,right,Nx,endpoint \u001b[38;5;241m=\u001b[39m \u001b[38;5;28;01mFalse\u001b[39;00m)\n\u001b[0;32m      8\u001b[0m phi_init \u001b[38;5;241m=\u001b[39m initial(x)\n\u001b[1;32m---> 10\u001b[0m (E_O,T) \u001b[38;5;241m=\u001b[39m \u001b[43mSolution\u001b[49m\u001b[43m(\u001b[49m\u001b[43mphi_init\u001b[49m\u001b[43m,\u001b[49m\u001b[43mNx\u001b[49m\u001b[43m,\u001b[49m\u001b[43mtimes\u001b[49m\u001b[43m,\u001b[49m\u001b[43ms_time\u001b[49m\u001b[43m,\u001b[49m\u001b[43me_time\u001b[49m\u001b[43m,\u001b[49m\u001b[43mleft\u001b[49m\u001b[43m,\u001b[49m\u001b[43mright\u001b[49m\u001b[43m)\u001b[49m  \n\u001b[0;32m     12\u001b[0m \u001b[38;5;28mdir\u001b[39m \u001b[38;5;241m=\u001b[39m \u001b[38;5;124m\"\u001b[39m\u001b[38;5;124mOriginal\u001b[39m\u001b[38;5;124m\"\u001b[39m\n\u001b[0;32m     14\u001b[0m path1 \u001b[38;5;241m=\u001b[39m \u001b[38;5;124mf\u001b[39m\u001b[38;5;124m\"\u001b[39m\u001b[38;5;132;01m{\u001b[39;00m\u001b[38;5;28mdir\u001b[39m\u001b[38;5;132;01m}\u001b[39;00m\u001b[38;5;124m/aa\u001b[39m\u001b[38;5;132;01m{\u001b[39;00mnow\u001b[38;5;132;01m}\u001b[39;00m\u001b[38;5;124m.png\u001b[39m\u001b[38;5;124m\"\u001b[39m\n",
            "File \u001b[1;32mE:\\清大\\Paper\\Code\\Methods.py:17\u001b[0m, in \u001b[0;36mSolution\u001b[1;34m(phi_init, Nx, times, s_time, e_time, left, right)\u001b[0m\n\u001b[0;32m     14\u001b[0m b \u001b[38;5;241m=\u001b[39m f(phi0) \u001b[38;5;241m-\u001b[39m phi0\u001b[38;5;241m/\u001b[39mdt\n\u001b[0;32m     15\u001b[0m phi1 \u001b[38;5;241m=\u001b[39m inverse(b,dt,Nx,dx)\n\u001b[1;32m---> 17\u001b[0m \u001b[38;5;28;01mif\u001b[39;00m np\u001b[38;5;241m.\u001b[39mmax(\u001b[38;5;28mabs\u001b[39m((phi1\u001b[38;5;241m-\u001b[39mphi0)\u001b[38;5;241m/\u001b[39mdt\u001b[38;5;241m+\u001b[39mL1(phi1,dx,)\u001b[38;5;241m+\u001b[39m\u001b[43mf\u001b[49m\u001b[43m(\u001b[49m\u001b[43mphi0\u001b[49m\u001b[43m)\u001b[49m))\u001b[38;5;241m>\u001b[39m\u001b[38;5;241m1e-5\u001b[39m:\n\u001b[0;32m     18\u001b[0m     \u001b[38;5;28mprint\u001b[39m(\u001b[38;5;124mf\u001b[39m\u001b[38;5;124m\"\u001b[39m\u001b[38;5;124merror! at t=\u001b[39m\u001b[38;5;132;01m{\u001b[39;00mt\u001b[38;5;132;01m}\u001b[39;00m\u001b[38;5;124m in phi\u001b[39m\u001b[38;5;124m\"\u001b[39m)\n\u001b[0;32m     20\u001b[0m E\u001b[38;5;241m.\u001b[39mappend(Energy(phi1,dx))\n",
            "File \u001b[1;32mE:\\清大\\Paper\\Code\\init.py:13\u001b[0m, in \u001b[0;36mf\u001b[1;34m(phi)\u001b[0m\n\u001b[0;32m     10\u001b[0m     temp \u001b[38;5;241m=\u001b[39m phi\u001b[38;5;241m*\u001b[39mphi \u001b[38;5;241m-\u001b[39m\u001b[38;5;241m1\u001b[39m\n\u001b[0;32m     11\u001b[0m     \u001b[38;5;28;01mreturn\u001b[39;00m \u001b[38;5;241m25\u001b[39m \u001b[38;5;241m*\u001b[39m temp\u001b[38;5;241m*\u001b[39mtemp\n\u001b[1;32m---> 13\u001b[0m \u001b[38;5;28;01mdef\u001b[39;00m \u001b[38;5;21mf\u001b[39m(phi):\n\u001b[0;32m     14\u001b[0m     \u001b[38;5;28;01mreturn\u001b[39;00m \u001b[38;5;241m100\u001b[39m \u001b[38;5;241m*\u001b[39m phi \u001b[38;5;241m*\u001b[39m (phi\u001b[38;5;241m*\u001b[39mphi \u001b[38;5;241m-\u001b[39m \u001b[38;5;241m1\u001b[39m)\n\u001b[0;32m     16\u001b[0m \u001b[38;5;28;01mdef\u001b[39;00m \u001b[38;5;21mL1\u001b[39m(v,dx):\u001b[38;5;66;03m#the minus laplacian operator for periodic boundary condition\u001b[39;00m\n",
            "\u001b[1;31mKeyboardInterrupt\u001b[0m: "
          ]
        },
        {
          "data": {
            "text/plain": [
              "<Figure size 640x480 with 0 Axes>"
            ]
          },
          "metadata": {},
          "output_type": "display_data"
        }
      ],
      "source": [
        "Times = [64,128,256,512]\n",
        "now = 1\n",
        "for times in Times:\n",
        "    dt_inv = (int)(times/(e_time-s_time))\n",
        "    dt = 1/dt_inv\n",
        "    Nx = times\n",
        "    x = np.linspace(left,right,Nx,endpoint = False)\n",
        "    phi_init = initial(x)\n",
        "    \n",
        "    (E_O,T) = Solution(phi_init,Nx,times,s_time,e_time,left,right)  \n",
        "\n",
        "    dir = \"Original\"\n",
        "\n",
        "    path1 = f\"{dir}/aa{now}.png\"\n",
        "    path2 = f\"{dir}/ab{now}.png\"\n",
        "\n",
        "    now += 1\n",
        "\n",
        "    plt.title(f'Original Solution at dt = 1/{dt_inv}')\n",
        "    plt.plot(T,E_O[:-1],'-x')\n",
        "    plt.xlabel(\"t\")\n",
        "    plt.ylabel(\"E\")\n",
        "    plt.savefig(path1)\n",
        "    plt.clf()\n",
        "\n",
        "    plt.title(f'Original Solution at dt = 1/{dt_inv}')\n",
        "    plt.plot(T[:4],E_O[:4],'-x')\n",
        "    plt.xlabel(\"t\")\n",
        "    plt.ylabel(\"E\")\n",
        "    plt.savefig(path2)\n",
        "    plt.clf()"
      ]
    },
    {
      "attachments": {},
      "cell_type": "markdown",
      "metadata": {
        "id": "E_ZSswbeHI8f"
      },
      "source": [
        "# SAV"
      ]
    },
    {
      "attachments": {},
      "cell_type": "markdown",
      "metadata": {},
      "source": [
        "## First-order SAV"
      ]
    },
    {
      "cell_type": "code",
      "execution_count": null,
      "metadata": {},
      "outputs": [],
      "source": [
        "Times = [16,32,64,256,512,1024,2048,4096]\n",
        "now = 0\n",
        "for times in Times:\n",
        "    dt_inv = (int)(times/(e_time-s_time))\n",
        "    dt = 1/dt_inv\n",
        "    Nx = times\n",
        "    x = np.linspace(left,right,Nx,endpoint = False)\n",
        "    phi_init = initial(x)\n",
        "    C0 = 0\n",
        "    \n",
        "    (mE_SAV,E_SAV,E1,r,T) = SAV(phi_init,Nx,times,s_time,e_time,left,right,C0)\n",
        "\n",
        "    dir = \"Report\"\n",
        "    now += 1\n",
        "    path1 = f\"{dir}/SAV2_E{now}.png\"\n",
        "    path2 = f\"{dir}/SAV2_r{now}.png\"\n",
        "    path5 = f\"{dir}/SAV2_dif{now}.png\"\n",
        "    \n",
        "    if now <= 3:\n",
        "        plt.title(f'Energy at dt = 1/{dt_inv}')\n",
        "        plt.plot(T,E_SAV[:-1],'-x')\n",
        "        plt.xlabel(\"t\")\n",
        "        plt.ylabel(\"E\")\n",
        "        plt.savefig(path1)\n",
        "        plt.clf()\n",
        "        \n",
        "        plt.title(f'Modified Energy at dt = 1/{dt_inv}')\n",
        "        plt.plot(T,mE_SAV[:-1],'-x')\n",
        "        plt.xlabel(\"t\")\n",
        "        plt.ylabel(\"E\")\n",
        "        plt.savefig(path2)\n",
        "        plt.clf()\n",
        "        \n",
        "        plt.title(f'r at dt = 1/{dt_inv}')\n",
        "        plt.plot(T,r[:-1],'-x')\n",
        "        plt.xlabel(\"t\")\n",
        "        plt.ylabel(\"r\")\n",
        "        plt.savefig(path3)\n",
        "        plt.clf()\n",
        "        \n",
        "        plt.title(f'E1 at dt = 1/{dt_inv}')\n",
        "        plt.plot(T,E1[:-1],'-x')\n",
        "        plt.xlabel(\"t\")\n",
        "        plt.ylabel(\"E1\")\n",
        "        plt.savefig(path4)\n",
        "        plt.clf()\n",
        "    \n",
        "    if now > 3:\n",
        "        plt.title(f'r^2-E1 at dt = 1/{dt_inv}')\n",
        "        plt.plot(T,(r*r-E1)[:-1],'-x')\n",
        "        plt.xlabel(\"t\")\n",
        "        plt.ylabel(\"r^2-E1\")\n",
        "        plt.savefig(path5)\n",
        "        plt.clf()"
      ]
    },
    {
      "attachments": {},
      "cell_type": "markdown",
      "metadata": {},
      "source": [
        "## Second-order SAV"
      ]
    },
    {
      "cell_type": "code",
      "execution_count": 36,
      "metadata": {
        "id": "dle0C1w6Mprb"
      },
      "outputs": [
        {
          "data": {
            "text/plain": [
              "<Figure size 640x480 with 0 Axes>"
            ]
          },
          "metadata": {},
          "output_type": "display_data"
        }
      ],
      "source": [
        "Times = np.array([32,64,128,256])*(e_time-s_time)\n",
        "dir = \"Report\"\n",
        "now = 0\n",
        "for times in Times:\n",
        "  dt_inv = (int)(times/(e_time-s_time))\n",
        "  dt = 1/dt_inv\n",
        "  Nx = times\n",
        "  x = np.linspace(left,right,Nx,endpoint = False)\n",
        "  phi_init = initial(x)\n",
        "  C0 = 0\n",
        "  \n",
        "  (mE_SAV2,E_SAV2,E1,r,T) = SAV2(phi_init,Nx,times,s_time,e_time,left,right,C0)\n",
        "\n",
        "  \n",
        "  now += 1\n",
        "  path1 = f\"{dir}/SAV2_E{now}.png\"\n",
        "  path2 = f\"{dir}/SAV2_r{now}.png\"\n",
        "  path5 = f\"{dir}/SAV2_dif{now}.png\"\n",
        "  \n",
        "  plt.title(f'Energy at dt = 1/{dt_inv}')\n",
        "  plt.plot(T,E_SAV2[:-1],'-x')\n",
        "  plt.xlabel(\"t\")\n",
        "  plt.ylabel(\"E\")\n",
        "  plt.savefig(path1)\n",
        "  plt.clf()\n",
        "  \n",
        "  plt.title(f'Modified Energy at dt = 1/{dt_inv}')\n",
        "  plt.plot(T,mE_SAV2[:-1],'-x')\n",
        "  plt.xlabel(\"t\")\n",
        "  plt.ylabel(\"E\")\n",
        "  plt.savefig(path2)\n",
        "  plt.clf()\n",
        "\n",
        "  plt.title(f'r^2-E1 at dt = 1/{dt_inv}')\n",
        "  plt.plot(T,(r*r-E1)[:-1],'-x')\n",
        "  plt.xlabel(\"t\")\n",
        "  plt.ylabel(\"r^2-E1\")\n",
        "  plt.savefig(path5)\n",
        "  plt.clf()"
      ]
    },
    {
      "attachments": {},
      "cell_type": "markdown",
      "metadata": {
        "id": "zKtgaWaaHPlu"
      },
      "source": [
        "# New SAV"
      ]
    },
    {
      "attachments": {},
      "cell_type": "markdown",
      "metadata": {},
      "source": [
        "## New SAV"
      ]
    },
    {
      "cell_type": "code",
      "execution_count": 45,
      "metadata": {},
      "outputs": [
        {
          "data": {
            "text/plain": [
              "<Figure size 640x480 with 0 Axes>"
            ]
          },
          "metadata": {},
          "output_type": "display_data"
        }
      ],
      "source": [
        "now = 1\n",
        "for times in Times:\n",
        "    dt_inv = (int)(times/(e_time-s_time))\n",
        "    dt = 1/dt_inv\n",
        "    Nx = times\n",
        "    x = np.linspace(left,right,Nx,endpoint = False)\n",
        "    phi_init = initial(x)\n",
        "    \n",
        "    (mE_NSAV,E_NSAV,T) = N_SAV(phi_init,Nx,times,s_time,e_time,left,right)\n",
        "\n",
        "    path1 = f\"{dir}/NSAV_E{now}.png\"\n",
        "    path2 = f\"{dir}/NSAV_q{now}.png\"\n",
        "    path3 = f\"{dir}/NSAV_dif{now}.png\"\n",
        "\n",
        "    if now<=3:\n",
        "        plt.plot(T,E_NSAV[:-1],'-x')\n",
        "        plt.title(f'Energy at dt = 1/{dt_inv}')\n",
        "        plt.xlabel(\"t\")\n",
        "        plt.ylabel(\"E\")\n",
        "        plt.savefig(path1)\n",
        "        plt.clf()\n",
        "\n",
        "        plt.plot(T,mE_NSAV[:-1],'-x')\n",
        "        plt.title(f'Modified Energy at dt = 1/{dt_inv}')\n",
        "        plt.xlabel(\"t\")\n",
        "        plt.ylabel(\"E\")\n",
        "        plt.savefig(path2)\n",
        "        plt.clf()\n",
        "    \n",
        "    if now>=2:\n",
        "        E = np.array(E_NSAV[:-1])\n",
        "        R = np.array(mE_NSAV[:-1])\n",
        "        plt.plot(T,(R-E),'-x')\n",
        "        plt.title(f'q-E at dt = 1/{dt_inv}, {(R[-1]-E[-1]):.3f} at {e_time}')\n",
        "        plt.xlabel(\"t\")\n",
        "        plt.ylabel(\"q-E\")\n",
        "        plt.savefig(path3)\n",
        "        plt.clf()\n",
        "    now += 1"
      ]
    },
    {
      "attachments": {},
      "cell_type": "markdown",
      "metadata": {},
      "source": [
        "## New SAV1"
      ]
    },
    {
      "cell_type": "code",
      "execution_count": 44,
      "metadata": {},
      "outputs": [
        {
          "data": {
            "text/plain": [
              "<Figure size 640x480 with 0 Axes>"
            ]
          },
          "metadata": {},
          "output_type": "display_data"
        }
      ],
      "source": [
        "now = 1\n",
        "for times in Times:\n",
        "    dt_inv = (int)(times/(e_time-s_time))\n",
        "    dt = 1/dt_inv\n",
        "    Nx = times\n",
        "    x = np.linspace(left,right,Nx,endpoint = False)\n",
        "    phi_init = initial(x)\n",
        "    \n",
        "    C0 = 0\n",
        "    \n",
        "    (mE_NSAV1,E_NSAV1,T) = N_SAV1(phi_init,Nx,times,s_time,e_time,left,right,C0)\n",
        "\n",
        "    path1 = f\"{dir}/NSAVa_E{now}.png\"\n",
        "    path2 = f\"{dir}/NSAVa_q{now}.png\"\n",
        "    path3 = f\"{dir}/NSAVa_dif{now}.png\"\n",
        "\n",
        "    if now<=3:\n",
        "        plt.plot(T,E_NSAV1[:-1],'-x')\n",
        "        plt.title(f'Energy at dt = 1/{dt_inv}')\n",
        "        plt.xlabel(\"t\")\n",
        "        plt.ylabel(\"E\")\n",
        "        plt.savefig(path1)\n",
        "        plt.clf()\n",
        "\n",
        "        plt.plot(T,mE_NSAV1[:-1],'-x')\n",
        "        plt.title(f'Modified Energy at dt = 1/{dt_inv}')\n",
        "        plt.xlabel(\"t\")\n",
        "        plt.ylabel(\"E\")\n",
        "        plt.savefig(path2)\n",
        "        plt.clf()\n",
        "        \n",
        "    if now>=2:\n",
        "        E = np.array(E_NSAV1[:-1])\n",
        "        q = np.array(mE_NSAV1[:-1])\n",
        "        plt.plot(T,q-E,'-x')\n",
        "        plt.title(f'q-E at dt = 1/{dt_inv}')\n",
        "        plt.xlabel(\"t\")\n",
        "        plt.ylabel(\"q-E\")\n",
        "        plt.savefig(path3)\n",
        "        plt.clf()\n",
        "    now += 1"
      ]
    },
    {
      "attachments": {},
      "cell_type": "markdown",
      "metadata": {},
      "source": [
        "## New SAV1b"
      ]
    },
    {
      "cell_type": "code",
      "execution_count": 41,
      "metadata": {},
      "outputs": [
        {
          "data": {
            "text/plain": [
              "<Figure size 640x480 with 0 Axes>"
            ]
          },
          "metadata": {},
          "output_type": "display_data"
        }
      ],
      "source": [
        "now = 1\n",
        "for times in Times:\n",
        "    dt_inv = (int)(times/(e_time-s_time))\n",
        "    dt = 1/dt_inv\n",
        "    Nx = times\n",
        "    x = np.linspace(left,right,Nx,endpoint = False)\n",
        "    phi_init = initial(x)\n",
        "    \n",
        "    C0 = 0\n",
        "    \n",
        "    (mE_NSAV1b,E_NSAV1b,T) = N_SAV1b(phi_init,Nx,times,s_time,e_time,left,right,C0)\n",
        "\n",
        "    path1 = f\"{dir}/NSAVb_E{now}.png\"\n",
        "    path2 = f\"{dir}/NSAVb_q{now}.png\"\n",
        "    path3 = f\"{dir}/NSAVb_dif{now}.png\"\n",
        "\n",
        "    if now<=3:\n",
        "        plt.plot(T,E_NSAV1b[:-1],'-x')\n",
        "        plt.title(f'Energy at dt = 1/{dt_inv}')\n",
        "        plt.xlabel(\"t\")\n",
        "        plt.ylabel(\"E\")\n",
        "        plt.savefig(path1)\n",
        "        plt.clf()\n",
        "\n",
        "        plt.plot(T,mE_NSAV1b[:-1],'-x')\n",
        "        plt.title(f'Modified Energy at dt = 1/{dt_inv}')\n",
        "        plt.xlabel(\"t\")\n",
        "        plt.ylabel(\"E\")\n",
        "        plt.savefig(path2)\n",
        "        plt.clf()\n",
        "\n",
        "    if now>=2:\n",
        "        E = np.array(E_NSAV1b[:-1])\n",
        "        q = np.array(mE_NSAV1b[:-1])\n",
        "        plt.plot(T,q-E,'-x')\n",
        "        plt.title(f'q-E at dt = 1/{dt_inv}')\n",
        "        plt.xlabel(\"t\")\n",
        "        plt.ylabel(\"E\")\n",
        "        plt.savefig(path3)\n",
        "        plt.clf()\n",
        "    now += 1"
      ]
    },
    {
      "attachments": {},
      "cell_type": "markdown",
      "metadata": {},
      "source": [
        "## New SAV1c"
      ]
    },
    {
      "cell_type": "code",
      "execution_count": 42,
      "metadata": {},
      "outputs": [
        {
          "data": {
            "text/plain": [
              "<Figure size 640x480 with 0 Axes>"
            ]
          },
          "metadata": {},
          "output_type": "display_data"
        }
      ],
      "source": [
        "now = 1\n",
        "for times in Times:\n",
        "    dt_inv = (int)(times/(e_time-s_time))\n",
        "    dt = 1/dt_inv\n",
        "    Nx = times\n",
        "    x = np.linspace(left,right,Nx,endpoint = False)\n",
        "    phi_init = initial(x)\n",
        "    \n",
        "    C0 = 0\n",
        "    \n",
        "    (mE_NSAV1c,E_NSAV1c,T) = N_SAV1c(phi_init,Nx,times,s_time,e_time,left,right,C0)\n",
        "\n",
        "    path1 = f\"{dir}/NSAVc_E{now}.png\"\n",
        "    path2 = f\"{dir}/NSAVc_q{now}.png\"\n",
        "    path3 = f\"{dir}/NSAVc_dif{now}.png\"\n",
        "\n",
        "    if now<=3:\n",
        "        plt.plot(T,E_NSAV1c[:-1],'-x')\n",
        "        plt.title(f'Energy at dt = 1/{dt_inv}')\n",
        "        plt.xlabel(\"t\")\n",
        "        plt.ylabel(\"E\")\n",
        "        plt.savefig(path1)\n",
        "        plt.clf()\n",
        "\n",
        "        plt.plot(T,mE_NSAV1c[:-1],'-x')\n",
        "        plt.title(f'Modified Energy at dt = 1/{dt_inv}')\n",
        "        plt.xlabel(\"t\")\n",
        "        plt.ylabel(\"E\")\n",
        "        plt.savefig(path2)\n",
        "        plt.clf()\n",
        "        \n",
        "    if now>=2:\n",
        "        E = np.array(E_NSAV1c[:-1])\n",
        "        q = np.array(mE_NSAV1c[:-1])\n",
        "        plt.plot(T,q-E,'-x')\n",
        "        plt.title(f'q-E at dt = 1/{dt_inv},{(q[-1]-E[-1]):.3f} at {e_time}')\n",
        "        plt.xlabel(\"t\")\n",
        "        plt.ylabel(\"E\")\n",
        "        plt.savefig(path3)\n",
        "        plt.clf()\n",
        "    \n",
        "    now += 1"
      ]
    },
    {
      "attachments": {},
      "cell_type": "markdown",
      "metadata": {},
      "source": [
        "## New SAV1d"
      ]
    },
    {
      "cell_type": "code",
      "execution_count": 8,
      "metadata": {},
      "outputs": [
        {
          "data": {
            "text/plain": [
              "<Figure size 432x288 with 0 Axes>"
            ]
          },
          "metadata": {},
          "output_type": "display_data"
        }
      ],
      "source": [
        "now = 1\n",
        "e_time_temp = 32\n",
        "Times = np.array([32,64,128,256,512,1024,2048,4096])*e_time_temp\n",
        "for times in Times:\n",
        "    dt_inv = (int)(times/(e_time_temp-s_time))\n",
        "    dt = 1/dt_inv\n",
        "    Nx = times\n",
        "    x = np.linspace(left,right,Nx,endpoint = False)\n",
        "    phi_init = initial(x)\n",
        "    \n",
        "    C0 = 0\n",
        "    \n",
        "    (mE_NSAV1d,E_NSAV1d,T) = N_SAV1d(phi_init,Nx,times,s_time,e_time_temp,left,right,C0)\n",
        "\n",
        "    dir = \"New SAV1d\"\n",
        "    path1 = f\"{dir}/a{now}.png\"\n",
        "    path2 = f\"{dir}/b{now}.png\"\n",
        "    path3 = f\"{dir}/c{now}.png\"\n",
        "\n",
        "    if now <= 3:\n",
        "        plt.plot(T,E_NSAV1d[:-1],'-x')\n",
        "        plt.title(f'Energy at dt = 1/{dt_inv}')\n",
        "        plt.xlabel(\"t\")\n",
        "        plt.ylabel(\"E\")\n",
        "        plt.savefig(path1)\n",
        "        plt.clf()\n",
        "\n",
        "        plt.plot(T,mE_NSAV1d[:-1],'-x')\n",
        "        plt.title(f'Modified Energy at dt = 1/{dt_inv}')\n",
        "        plt.xlabel(\"t\")\n",
        "        plt.ylabel(\"E\")\n",
        "        plt.savefig(path2)\n",
        "        plt.clf()\n",
        "\n",
        "    if now > 3:\n",
        "        E = np.array(E_NSAV1d[:-1])\n",
        "        q = np.array(mE_NSAV1d[:-1])\n",
        "        plt.plot(T,q-E,'-x')\n",
        "        plt.title(f'q-E at dt = 1/{dt_inv},{(q[-1]-E[-1]):.3f} at {e_time_temp}')\n",
        "        plt.xlabel(\"t\")\n",
        "        plt.ylabel(\"E\")\n",
        "        plt.savefig(path3)\n",
        "        plt.clf()\n",
        "    now += 1"
      ]
    },
    {
      "attachments": {},
      "cell_type": "markdown",
      "metadata": {},
      "source": [
        "## 2nd New SAV1b"
      ]
    },
    {
      "cell_type": "code",
      "execution_count": 46,
      "metadata": {},
      "outputs": [
        {
          "data": {
            "text/plain": [
              "<Figure size 640x480 with 0 Axes>"
            ]
          },
          "metadata": {},
          "output_type": "display_data"
        }
      ],
      "source": [
        "now = 1\n",
        "for times in Times:\n",
        "    dt_inv = (int)(times/(e_time-s_time))\n",
        "    dt = 1/dt_inv\n",
        "    Nx = times\n",
        "    x = np.linspace(left,right,Nx,endpoint = False)\n",
        "    phi_init = initial(x)\n",
        "    \n",
        "    C0 = 0\n",
        "    \n",
        "    (mE_NSAV1b,E_NSAV1b,T) = N2_SAV1b(phi_init,Nx,times,s_time,e_time,left,right,C0)\n",
        "\n",
        "    path1 = f\"{dir}/NSAVb2_E{now}.png\"\n",
        "    path2 = f\"{dir}/NSAVb2_q{now}.png\"\n",
        "    path3 = f\"{dir}/NSAVb2_dif{now}.png\"\n",
        "\n",
        "    if now<=3:\n",
        "        plt.plot(T,E_NSAV1b[:-1],'-x')\n",
        "        plt.title(f'Energy at dt = 1/{dt_inv}')\n",
        "        plt.xlabel(\"t\")\n",
        "        plt.ylabel(\"E\")\n",
        "        plt.savefig(path1)\n",
        "        plt.clf()\n",
        "\n",
        "        plt.plot(T,mE_NSAV1b[:-1],'-x')\n",
        "        plt.title(f'Modified Energy at dt = 1/{dt_inv}')\n",
        "        plt.xlabel(\"t\")\n",
        "        plt.ylabel(\"E\")\n",
        "        plt.savefig(path2)\n",
        "        plt.clf()\n",
        "\n",
        "    if now>=2:\n",
        "        E = np.array(E_NSAV1b[:-1])\n",
        "        q = np.array(mE_NSAV1b[:-1])\n",
        "        plt.plot(T,q-E,'-x')\n",
        "        plt.title(f'q-E at dt = 1/{dt_inv}')\n",
        "        plt.xlabel(\"t\")\n",
        "        plt.ylabel(\"E\")\n",
        "        plt.savefig(path3)\n",
        "        plt.clf()\n",
        "    now += 1"
      ]
    },
    {
      "attachments": {},
      "cell_type": "markdown",
      "metadata": {},
      "source": [
        "## New SAV2"
      ]
    },
    {
      "cell_type": "code",
      "execution_count": null,
      "metadata": {},
      "outputs": [],
      "source": [
        "now = 1\n",
        "for times in Times:\n",
        "    dt_inv = (int)(times/(e_time-s_time))\n",
        "    dt = 1/dt_inv\n",
        "    Nx = times\n",
        "    x = np.linspace(left,right,Nx,endpoint = False)\n",
        "    phi_init = initial(x)\n",
        "    \n",
        "    C0 = 0\n",
        "    \n",
        "    (mE_NSAV2,E_NSAV2,T) = N_SAV2(phi_init,Nx,times,s_time,e_time,left,right,C0)\n",
        "\n",
        "    dir = \"New SAV2\"\n",
        "    path1 = f\"{dir}/a{now}.png\"\n",
        "    path2 = f\"{dir}/b{now}.png\"\n",
        "    path3 = f\"{dir}/c{now}.png\"\n",
        "    now += 1\n",
        "\n",
        "    plt.plot(T,E_NSAV2[:-1],'-x')\n",
        "    plt.title(f'Energy at dt = 1/{dt_inv}')\n",
        "    plt.xlabel(\"t\")\n",
        "    plt.ylabel(\"E\")\n",
        "    plt.savefig(path1)\n",
        "    plt.clf()\n",
        "\n",
        "    plt.plot(T,mE_NSAV2[:-1],'-x')\n",
        "    plt.title(f'Modified Energy at dt = 1/{dt_inv}')\n",
        "    plt.xlabel(\"t\")\n",
        "    plt.ylabel(\"E\")\n",
        "    plt.savefig(path2)\n",
        "    plt.clf()\n",
        "    \n",
        "    E = np.array(E_NSAV2[:-1])\n",
        "    q = np.array(mE_NSAV2[:-1])\n",
        "    plt.plot(T,(q-E),'-x')\n",
        "    plt.title(f'q-E at dt = 1/{dt_inv}')\n",
        "    plt.xlabel(\"t\")\n",
        "    plt.ylabel(\"q-E\")\n",
        "    plt.savefig(path3)\n",
        "    plt.clf()"
      ]
    },
    {
      "attachments": {},
      "cell_type": "markdown",
      "metadata": {
        "id": "5Ub5z-NGHXsd"
      },
      "source": [
        "# gPAV"
      ]
    },
    {
      "attachments": {},
      "cell_type": "markdown",
      "metadata": {},
      "source": [
        "## First-order gPAV"
      ]
    },
    {
      "cell_type": "code",
      "execution_count": null,
      "metadata": {},
      "outputs": [],
      "source": [
        "e_time_temp = 30\n",
        "Times = np.array([32,64,128,256,512,1024,2048,4096])*e_time_temp\n",
        "now = 1\n",
        "for times in Times:\n",
        "    dt_inv = (int)(times/(e_time_temp-s_time))\n",
        "    dt = 1/dt_inv\n",
        "    Nx = times\n",
        "    x = np.linspace(left,right,Nx,endpoint = False)\n",
        "    phi_init = initial(x)\n",
        "    \n",
        "    C0 = 0\n",
        "    \n",
        "    (mE_gPAV1,E_gPAV1,T) = gPAV1(phi_init,Nx,times,s_time,e_time_temp,left,right,C0)\n",
        "\n",
        "    dir = \"1st gPAV\"\n",
        "    path1 = f\"{dir}/a{now}.png\"\n",
        "    path2 = f\"{dir}/b{now}.png\"\n",
        "    path3 = f\"{dir}/c{now}.png\"\n",
        "    now += 1\n",
        "\n",
        "    if now <= 3:\n",
        "        plt.plot(T,E_gPAV1[:-1],'-x')\n",
        "        plt.title(f'Energy at dt = 1/{dt_inv}')\n",
        "        plt.xlabel(\"t\")\n",
        "        plt.ylabel(\"E\")\n",
        "        plt.savefig(path1)\n",
        "        plt.clf()\n",
        "\n",
        "        plt.plot(T,mE_gPAV1[:-1],'-x')\n",
        "        plt.title(f'Modified Energy at dt = 1/{dt_inv}')\n",
        "        plt.xlabel(\"t\")\n",
        "        plt.ylabel(\"q\")\n",
        "        plt.savefig(path2)\n",
        "        plt.clf()\n",
        "    \n",
        "    if now > 3:\n",
        "        E = np.array(E_gPAV1[:-1])\n",
        "        q = np.array(mE_gPAV1[:-1])\n",
        "        plt.plot(T,(q-E),'-x')\n",
        "        plt.title(f'q-E at dt = 1/{dt_inv},{(q[-1]-E[-1]):.3f} at {e_time_temp}')\n",
        "        plt.xlabel(\"t\")\n",
        "        plt.ylabel(\"q-E\")\n",
        "        plt.savefig(path3)\n",
        "        plt.clf()"
      ]
    },
    {
      "attachments": {},
      "cell_type": "markdown",
      "metadata": {},
      "source": [
        "## Second-order gPAV(Original)"
      ]
    },
    {
      "cell_type": "code",
      "execution_count": null,
      "metadata": {},
      "outputs": [],
      "source": [
        "Times = [32,128,512,2048,4096,16384]\n",
        "now = 1\n",
        "for times in Times:\n",
        "    dt_inv = (int)(times/(e_time-s_time))\n",
        "    dt = 1/dt_inv\n",
        "    Nx = times\n",
        "    x = np.linspace(left,right,Nx,endpoint = False)\n",
        "    phi_init = initial(x)\n",
        "    \n",
        "    (mE_gPAV2,E_gPAV2,T) = gPAV2(phi_init,Nx,times,s_time,e_time,left,right)\n",
        "\n",
        "    dir = \"2nd gPAV\"\n",
        "    path1 = f\"{dir}/a{now}.png\"\n",
        "    path2 = f\"{dir}/b{now}.png\"\n",
        "    path3 = f\"{dir}/c{now}.png\"\n",
        "    now += 1\n",
        "\n",
        "    plt.plot(T[:],E_gPAV2[:-1],'-x')\n",
        "    plt.title(f'Energy at dt = 1/{dt_inv}')\n",
        "    plt.xlabel(\"t\")\n",
        "    plt.ylabel(\"E\")\n",
        "    plt.savefig(path1)\n",
        "    plt.clf()\n",
        "\n",
        "    plt.plot(T+dt/2,mE_gPAV2[:-1],'-x')\n",
        "    plt.title(f'Modified Energy at dt = 1/{dt_inv}')\n",
        "    plt.xlabel(\"t\")\n",
        "    plt.ylabel(\"q\")\n",
        "    plt.savefig(path2)\n",
        "    plt.clf()\n",
        "    \n",
        "    E = np.array(E_gPAV2[:-1])\n",
        "    q = np.array(mE_gPAV2[:-1])\n",
        "    plt.plot(T,(q-C0-E),'-x')\n",
        "    plt.title(f'q-E at dt = 1/{dt_inv}')\n",
        "    plt.xlabel(\"t\")\n",
        "    plt.ylabel(\"q-E\")\n",
        "    plt.savefig(path3)\n",
        "    plt.clf()"
      ]
    },
    {
      "attachments": {},
      "cell_type": "markdown",
      "metadata": {},
      "source": [
        "## Second-order gPAV(Modified)"
      ]
    },
    {
      "cell_type": "code",
      "execution_count": null,
      "metadata": {},
      "outputs": [],
      "source": [
        "Times = [32,64,128,256,512]\n",
        "now = 1\n",
        "e_time_temp = 32\n",
        "Times = np.array(Times)*e_time_temp\n",
        "for times in Times:\n",
        "    dt_inv = (int)(times/(e_time_temp-s_time))\n",
        "    dt = 1/dt_inv\n",
        "    Nx = times\n",
        "    x = np.linspace(left,right,Nx,endpoint = False)\n",
        "    phi_init = initial(x)\n",
        "    \n",
        "    (mE_gPAV2a,E_gPAV2a,T) = gPAV2a(phi_init,Nx,times,s_time,e_time_temp,left,right)\n",
        "\n",
        "    dir = \"2nd gPAV2\"\n",
        "    path1 = f\"{dir}/a{now}.png\"\n",
        "    path2 = f\"{dir}/b{now}.png\"\n",
        "    path3 = f\"{dir}/c{now}.png\"\n",
        "    now += 1\n",
        "\n",
        "    plt.plot(T,E_gPAV2a[:-1],'-x')\n",
        "    plt.title(f'Energy at dt = 1/{dt_inv}')\n",
        "    plt.xlabel(\"t\")\n",
        "    plt.ylabel(\"E\")\n",
        "    plt.savefig(path1)\n",
        "    plt.clf()\n",
        "\n",
        "    plt.plot(T+dt/2,mE_gPAV2a[:-1],'-x')\n",
        "    plt.title(f'Modified Energy at dt = 1/{dt_inv}')\n",
        "    plt.xlabel(\"t\")\n",
        "    plt.ylabel(\"q\")\n",
        "    plt.savefig(path2)\n",
        "    plt.clf()\n",
        "    \n",
        "    E = np.array(E_gPAV2a[:-1])\n",
        "    q = np.array(mE_gPAV2a[:-1])\n",
        "    plt.plot(T,(q-E),'-x')\n",
        "    plt.title(f'q-E at dt = 1/{dt_inv}, {(q[-1]-E[-1]):.3f} at {e_time_temp}')\n",
        "    plt.xlabel(\"t\")\n",
        "    plt.ylabel(\"q-E\")\n",
        "    plt.savefig(path3)\n",
        "    plt.clf()"
      ]
    },
    {
      "attachments": {},
      "cell_type": "markdown",
      "metadata": {},
      "source": [
        "## Second-order gPAV B"
      ]
    },
    {
      "cell_type": "code",
      "execution_count": null,
      "metadata": {},
      "outputs": [],
      "source": [
        "Times = [32,64,128,256,512]\n",
        "now = 1\n",
        "e_time_temp = 40\n",
        "Times = np.array(Times) * e_time_temp\n",
        "for times in Times:\n",
        "    dt_inv = (int)(times/(e_time_temp-s_time))\n",
        "    dt = 1/dt_inv\n",
        "    Nx = times\n",
        "    x = np.linspace(left,right,Nx,endpoint = False)\n",
        "    phi_init = initial(x)\n",
        "    \n",
        "    (mE_gPAV2b,E_gPAV2b,T) = gPAV2b(phi_init,Nx,times,s_time,e_time_temp,left,right)\n",
        "\n",
        "    dir = \"2nd gPAV2b\"\n",
        "    path1 = f\"{dir}/a{now}.png\"\n",
        "    path2 = f\"{dir}/b{now}.png\"\n",
        "    path3 = f\"{dir}/c{now}.png\"\n",
        "    now += 1\n",
        "\n",
        "    plt.plot(T,E_gPAV2b[:-1],'-x')\n",
        "    plt.title(f'Energy at dt = 1/{dt_inv}')\n",
        "    plt.xlabel(\"t\")\n",
        "    plt.ylabel(\"E\")\n",
        "    plt.savefig(path1)\n",
        "    plt.clf()\n",
        "\n",
        "    plt.plot(T+dt/2,mE_gPAV2b[:-1],'-x')\n",
        "    plt.title(f'Modified Energy at dt = 1/{dt_inv}')\n",
        "    plt.xlabel(\"t\")\n",
        "    plt.ylabel(\"q\")\n",
        "    plt.savefig(path2)\n",
        "    plt.clf()\n",
        "    \n",
        "    E = np.array(E_gPAV2b[:-1])\n",
        "    q = np.array(mE_gPAV2b[:-1])\n",
        "    plt.plot(T,(q-E),'-x')\n",
        "    plt.title(f'q-E at dt = 1/{dt_inv}, {(q[-1]-E[-1]):.3f} at {e_time_temp}')\n",
        "    plt.xlabel(\"t\")\n",
        "    plt.ylabel(\"q-E\")\n",
        "    plt.savefig(path3)\n",
        "    plt.clf()"
      ]
    },
    {
      "attachments": {},
      "cell_type": "markdown",
      "metadata": {
        "id": "Ut4y7B1PHZ6G"
      },
      "source": [
        "# ESAV"
      ]
    },
    {
      "attachments": {},
      "cell_type": "markdown",
      "metadata": {},
      "source": [
        "## E-SAV2"
      ]
    },
    {
      "cell_type": "code",
      "execution_count": null,
      "metadata": {},
      "outputs": [],
      "source": [
        "now = 1\n",
        "Times = [32,64,128,256,512,1024]\n",
        "for times in Times:\n",
        "    dt_inv = (int)(times/(e_time-s_time))\n",
        "    dt = 1/dt_inv\n",
        "    Nx = times\n",
        "    x = np.linspace(left,right,Nx,endpoint = False)\n",
        "    phi_init = initial(x)\n",
        "    \n",
        "    C1 = 30\n",
        "    \n",
        "    (mE_ESAV2,E_ESAV2,T) = ESAV2(phi_init,Nx,times,s_time,e_time,left,right,C1)\n",
        "\n",
        "    dir = \"ESAV2\"\n",
        "    path1 = f\"{dir}/a{now}.png\"\n",
        "    path2 = f\"{dir}/b{now}.png\"\n",
        "    path3 = f\"{dir}/c{now}.png\"\n",
        "    now += 1 \n",
        "\n",
        "    \n",
        "    plt.plot(T,E_ESAV2[:-1],'-x')\n",
        "    plt.title(f'Energy at dt = 1/{dt_inv}')\n",
        "    plt.xlabel(\"t\")\n",
        "    plt.ylabel(\"E\")\n",
        "    plt.savefig(path1)\n",
        "    plt.clf()\n",
        "    plt.plot(T,mE_ESAV2[:-1],'-x')\n",
        "    plt.title(f'Modified Energy at dt = 1/{dt_inv}')\n",
        "    plt.xlabel(\"t\")\n",
        "    plt.ylabel(\"E\")\n",
        "    plt.savefig(path2)\n",
        "    plt.clf()\n",
        "\n",
        "\n",
        "    E = np.array(E_ESAV2[:-1])\n",
        "    E_bar = np.array(mE_ESAV2[:-1])\n",
        "    plt.plot(T,E_bar-E,'-x')\n",
        "    plt.title(f'Cln s-E at dt = 1/{dt_inv},{(E_bar[-1]-E[-1]):.3f} at t={T[-1]}')\n",
        "    plt.xlabel(\"t\")\n",
        "    plt.ylabel(\"Cln s-E\")\n",
        "    plt.savefig(path3)\n",
        "    plt.clf()"
      ]
    },
    {
      "attachments": {},
      "cell_type": "markdown",
      "metadata": {},
      "source": [
        "## First-order E-SAV"
      ]
    },
    {
      "cell_type": "code",
      "execution_count": null,
      "metadata": {},
      "outputs": [],
      "source": [
        "now = 1\n",
        "Times = [32,64,128,256,512,1024,2048,4096]\n",
        "for times in Times:\n",
        "    dt_inv = (int)(times/(e_time-s_time))\n",
        "    dt = 1/dt_inv\n",
        "    Nx = times\n",
        "    x = np.linspace(left,right,Nx,endpoint = False)\n",
        "    phi_init = initial(x)\n",
        "    \n",
        "    C1 = 30\n",
        "    \n",
        "    (mE_ESAV1,E_ESAV1,E1,s,T) = ESAV1(phi_init,Nx,times,s_time,e_time,left,right,C1)\n",
        "\n",
        "    dir = \"ESAV\"\n",
        "    path1 = f\"{dir}/a{now}.png\"\n",
        "    path2 = f\"{dir}/b{now}.png\"\n",
        "    path3 = f\"{dir}/c{now}.png\"\n",
        "    path4 = f\"{dir}/d{now}.png\"\n",
        "    path5 = f\"{dir}/e{now}.png\"\n",
        "    s = np.array(s[:-1])\n",
        "    E1 = np.array(E1[:-1])\n",
        "\n",
        "    if now<=3:\n",
        "        plt.plot(T,E_ESAV1[:-1],'-x')\n",
        "        plt.title(f'Energy at dt = 1/{dt_inv}')\n",
        "        plt.xlabel(\"t\")\n",
        "        plt.ylabel(\"E\")\n",
        "        plt.savefig(path1)\n",
        "        plt.clf()\n",
        "\n",
        "        plt.plot(T,mE_ESAV1[:-1],'-x')\n",
        "        plt.title(f'Modified Energy E-SAV1 at dt = 1/{dt_inv}')\n",
        "        plt.xlabel(\"t\")\n",
        "        plt.ylabel(\"E\")\n",
        "        plt.savefig(path2)\n",
        "        plt.clf()\n",
        "        \n",
        "\n",
        "        plt.plot(T,s,'-x')\n",
        "        plt.title(f's at dt = 1/{dt_inv}')\n",
        "        plt.xlabel('t')\n",
        "        plt.ylabel('s')\n",
        "        plt.savefig(path3)\n",
        "        plt.clf()\n",
        "\n",
        "        plt.plot(T,E1,'-x')\n",
        "        plt.title(f'E1 at dt = 1/{dt_inv}')\n",
        "        plt.xlabel(\"t\")\n",
        "        plt.ylabel(\"E1\")\n",
        "        plt.savefig(path4)\n",
        "        plt.clf()\n",
        "\n",
        "    if now >3:\n",
        "        plt.plot(T,C1*np.log(s)-E1,'-x')\n",
        "        plt.title(f'Cln s-E1 at dt = 1/{dt_inv}')\n",
        "        plt.xlabel(\"t\")\n",
        "        plt.ylabel(\"Cln s-E1\")\n",
        "        plt.savefig(path5)\n",
        "        plt.clf()\n",
        "\n",
        "    now += 1 "
      ]
    },
    {
      "attachments": {},
      "cell_type": "markdown",
      "metadata": {},
      "source": [
        "## Second-order E-SAV"
      ]
    },
    {
      "cell_type": "code",
      "execution_count": 37,
      "metadata": {},
      "outputs": [
        {
          "data": {
            "text/plain": [
              "<Figure size 640x480 with 0 Axes>"
            ]
          },
          "metadata": {},
          "output_type": "display_data"
        }
      ],
      "source": [
        "now = 1\n",
        "for times in Times:\n",
        "    dt_inv = (int)(times/(e_time-s_time))\n",
        "    dt = 1/dt_inv\n",
        "    Nx = times\n",
        "    x = np.linspace(left,right,Nx,endpoint = False)\n",
        "    phi_init = initial(x)\n",
        "    \n",
        "    C1 = 30\n",
        "    \n",
        "    (mE_ESAV,E_ESAV,E1,s,T) = ESAVII(phi_init,Nx,times,s_time,e_time,left,right,C1)\n",
        "\n",
        "    path1 = f\"{dir}/ESAV2_E{now}.png\"\n",
        "    path2 = f\"{dir}/ESAV2_s{now}.png\"\n",
        "    path5 = f\"{dir}/ESAV2_dif{now}.png\"\n",
        "    \n",
        "    s = np.array(s[:-1])\n",
        "    E1 = np.array(E1[:-1])\n",
        "\n",
        "    plt.plot(T,E_ESAV[:-1],'-x')\n",
        "    plt.title(f'Energy at dt = 1/{dt_inv}')\n",
        "    plt.xlabel(\"t\")\n",
        "    plt.ylabel(\"E\")\n",
        "    plt.savefig(path1)\n",
        "    plt.clf()\n",
        "\n",
        "    plt.plot(T,mE_ESAV[:-1],'-x')\n",
        "    plt.title(f'Modified Energy at dt = 1/{dt_inv}')\n",
        "    plt.xlabel(\"t\")\n",
        "    plt.ylabel(\"E\")\n",
        "    plt.savefig(path2)\n",
        "    plt.clf()\n",
        "\n",
        "    plt.plot(T,C1*np.log(s)-E1,'-x')\n",
        "    plt.title(f'Cln s-E1 at dt = 1/{dt_inv}')\n",
        "    plt.xlabel(\"t\")\n",
        "    plt.ylabel(\"Cln s-E1\")\n",
        "    plt.savefig(path5)\n",
        "    plt.clf()\n",
        "    now += 1 "
      ]
    },
    {
      "attachments": {},
      "cell_type": "markdown",
      "metadata": {},
      "source": [
        "## New E-SAV"
      ]
    },
    {
      "cell_type": "code",
      "execution_count": null,
      "metadata": {},
      "outputs": [],
      "source": [
        "now = 1\n",
        "e_time_temp = 150\n",
        "Times = np.array([32,64,128,256,512,1024])*e_time_temp\n",
        "for times in Times:\n",
        "    dt_inv = (int)(times/(e_time_temp-s_time))\n",
        "    dt = 1/dt_inv\n",
        "    Nx = times\n",
        "    x = np.linspace(left,right,Nx,endpoint = False)\n",
        "    phi_init = initial(x)\n",
        "    \n",
        "    C0 = 30\n",
        "    \n",
        "    (mE_NESAV,E_NESAV,T) = New_ESAV(phi_init,Nx,times,s_time,e_time_temp,left,right,C0)\n",
        "\n",
        "    dir = \"New ESAV\"\n",
        "    path1 = f\"{dir}/a{now}.png\"\n",
        "    path2 = f\"{dir}/b{now}.png\"\n",
        "    path3 = f\"{dir}/c{now}.png\"\n",
        "    now += 1 \n",
        "\n",
        "    if now <= 3:\n",
        "        plt.plot(T,E_NESAV[:-1],'-x')\n",
        "        plt.title(f'Energy at dt = 1/{dt_inv}')\n",
        "        plt.xlabel(\"t\")\n",
        "        plt.ylabel(\"E\")\n",
        "        plt.savefig(path1)\n",
        "        plt.clf()\n",
        "        plt.plot(T,mE_NESAV[:-1],'-x')\n",
        "        plt.title(f'Modified Energy at dt = 1/{dt_inv}')\n",
        "        plt.xlabel(\"t\")\n",
        "        plt.ylabel(\"E\")\n",
        "        plt.savefig(path2)\n",
        "        plt.clf()\n",
        "    \n",
        "    if now > 3:\n",
        "        E = np.array(E_NESAV[:-1])\n",
        "        E_bar = np.array(mE_NESAV[:-1])\n",
        "        plt.plot(T,E_bar-E,'-x')\n",
        "        plt.title(f'Cln s-E at dt = 1/{dt_inv},{(E_bar[-1]-E[-1]):.3f} at {e_time_temp}')\n",
        "        plt.xlabel(\"t\")\n",
        "        plt.ylabel(\"Cln s-E\")\n",
        "        plt.savefig(path3)\n",
        "        plt.clf()"
      ]
    },
    {
      "attachments": {},
      "cell_type": "markdown",
      "metadata": {
        "id": "BNHw-ZfkbWyR"
      },
      "source": [
        "# Attempts"
      ]
    },
    {
      "attachments": {},
      "cell_type": "markdown",
      "metadata": {},
      "source": [
        "## Attempt 1"
      ]
    },
    {
      "cell_type": "code",
      "execution_count": null,
      "metadata": {},
      "outputs": [],
      "source": [
        "#Attempt 1\n",
        "Times = [32,64,128]\n",
        "now = 1\n",
        "for times in Times:\n",
        "    dt_inv = (int)(times/(e_time-s_time))\n",
        "    dt = 1/dt_inv\n",
        "    Nx = times\n",
        "    x = np.linspace(left,right,Nx,endpoint = False)\n",
        "    phi_init = initial(x)\n",
        "    \n",
        "    (E_A1,T) = A1(phi_init,Nx,times,s_time,e_time,left,right)    \n",
        "\n",
        "    dir = \"A1\"\n",
        "    path1 = f\"{dir}/a{now}.png\"\n",
        "\n",
        "    now += 1\n",
        "\n",
        "    plt.title(f'Energy at dt = 1/{dt_inv}')\n",
        "    plt.plot(T,E_A1[:-1],'-x')\n",
        "    plt.xlabel(\"t\")\n",
        "    plt.ylabel(\"E\")\n",
        "    plt.savefig(path1)\n",
        "    plt.clf()"
      ]
    },
    {
      "attachments": {},
      "cell_type": "markdown",
      "metadata": {},
      "source": [
        "## Attempt 2"
      ]
    },
    {
      "cell_type": "code",
      "execution_count": null,
      "metadata": {},
      "outputs": [],
      "source": [
        "#Attempt 2\n",
        "Times = [32,64,128]\n",
        "now = 1\n",
        "for times in Times:\n",
        "    dt_inv = (int)(times/(e_time-s_time))\n",
        "    dt = 1/dt_inv\n",
        "    Nx = times\n",
        "    x = np.linspace(left,right,Nx,endpoint = False)\n",
        "    phi_init = initial(x)\n",
        "    L = 200\n",
        "    \n",
        "    (E_A3,T) = A2(phi_init,Nx,times,s_time,e_time,left,right,L)\n",
        "\n",
        "    dir = \"A2\"\n",
        "    path1 = f\"{dir}/a{now}.png\"\n",
        "    now += 1\n",
        "    \n",
        "    plt.title(f'Energy at dt = 1/{dt_inv}')\n",
        "    plt.plot(T,E_A3[:-1],'-x')\n",
        "    plt.xlabel(\"t\")\n",
        "    plt.ylabel(\"E\")\n",
        "    plt.savefig(path1)\n",
        "    plt.clf()"
      ]
    },
    {
      "attachments": {},
      "cell_type": "markdown",
      "metadata": {},
      "source": [
        "# Schemes"
      ]
    },
    {
      "attachments": {},
      "cell_type": "markdown",
      "metadata": {},
      "source": [
        "## Scheme A"
      ]
    },
    {
      "cell_type": "code",
      "execution_count": null,
      "metadata": {},
      "outputs": [],
      "source": [
        "#Scheme A\n",
        "Times = [32,64,128,256,512,1024]\n",
        "now = 1\n",
        "for times in Times:\n",
        "    dt_inv = (int)(times/(e_time-s_time))\n",
        "    dt = 1/dt_inv\n",
        "    Nx = times\n",
        "    x = np.linspace(left,right,Nx,endpoint = False)\n",
        "    phi_init = initial(x)\n",
        "    L = 200\n",
        "    \n",
        "    (E_SA,T) = SA(phi_init,Nx,times,s_time,e_time,left,right,L)\n",
        "\n",
        "    dir = \"SA\"\n",
        "    path1 = f\"{dir}/a{now}.png\"\n",
        "    now += 1\n",
        "    \n",
        "    plt.title(f'Energy at dt = 1/{dt_inv}')\n",
        "    plt.plot(T,E_SA[:-1],'-x')\n",
        "    plt.xlabel(\"t\")\n",
        "    plt.ylabel(\"E\")\n",
        "    plt.savefig(path1)\n",
        "    plt.clf()"
      ]
    },
    {
      "attachments": {},
      "cell_type": "markdown",
      "metadata": {},
      "source": [
        "## Scheme B"
      ]
    },
    {
      "cell_type": "code",
      "execution_count": null,
      "metadata": {},
      "outputs": [],
      "source": [
        "#Scheme B\n",
        "Times = [16,32,64,128,256,512]\n",
        "now = 1\n",
        "for times in Times:\n",
        "    dt_inv = (int)(times/(e_time-s_time))\n",
        "    dt = 1/dt_inv\n",
        "    Nx = times\n",
        "    x = np.linspace(left,right,Nx,endpoint = False)\n",
        "    phi_init = initial(x)\n",
        "    L = 200\n",
        "    \n",
        "    (E_SB,T) = SB(phi_init,Nx,times,s_time,e_time,left,right,L)\n",
        "\n",
        "    dir = \"SB\"\n",
        "    path1 = f\"{dir}/a{now}.png\"\n",
        "    now += 1\n",
        "    \n",
        "    plt.title(f'Energy at dt = 1/{dt_inv}')\n",
        "    plt.plot(T,E_SB[:-1],'-x')\n",
        "    plt.xlabel(\"t\")\n",
        "    plt.ylabel(\"E\")\n",
        "    plt.savefig(path1)\n",
        "    plt.clf()"
      ]
    },
    {
      "attachments": {},
      "cell_type": "markdown",
      "metadata": {},
      "source": [
        "## Scheme C"
      ]
    },
    {
      "cell_type": "code",
      "execution_count": 43,
      "metadata": {},
      "outputs": [
        {
          "data": {
            "text/plain": [
              "<Figure size 640x480 with 0 Axes>"
            ]
          },
          "metadata": {},
          "output_type": "display_data"
        }
      ],
      "source": [
        "#Scheme C\n",
        "now = 1\n",
        "for times in Times:\n",
        "    dt_inv = (int)(times/(e_time-s_time))\n",
        "    dt = 1/dt_inv\n",
        "    Nx = times\n",
        "    x = np.linspace(left,right,Nx,endpoint = False)\n",
        "    phi_init = initial(x)\n",
        "    \n",
        "    \n",
        "    #M=A\n",
        "    L = 200\n",
        "    (E_SC,T) = SC(phi_init,Nx,times,s_time,e_time,left,right,L)\n",
        "\n",
        "    path1 = f\"{dir}/SC_E{now}.png\"\n",
        "    now += 1\n",
        "    \n",
        "    plt.title(f'Energy at dt = 1/{dt_inv}')\n",
        "    plt.plot(T,E_SC[:-1],'-x')\n",
        "    plt.xlabel(\"t\")\n",
        "    plt.ylabel(\"E\")\n",
        "    plt.savefig(path1)\n",
        "    plt.clf()"
      ]
    },
    {
      "cell_type": "code",
      "execution_count": 33,
      "metadata": {},
      "outputs": [],
      "source": [
        "import importlib\n",
        "importlib.reload(Methods)\n",
        "from Methods import SC"
      ]
    },
    {
      "attachments": {},
      "cell_type": "markdown",
      "metadata": {},
      "source": [
        "## Scheme D"
      ]
    },
    {
      "cell_type": "code",
      "execution_count": null,
      "metadata": {},
      "outputs": [],
      "source": [
        "#Scheme D\n",
        "Times = [64,128,256]\n",
        "M = 0.1\n",
        "for i in range(1,5):\n",
        "    now = 1\n",
        "    for times in Times:\n",
        "        dt_inv = (int)(times/(e_time-s_time))\n",
        "        dt = 1/dt_inv\n",
        "        Nx = (int)(1//dt)\n",
        "        x = np.linspace(left,right,Nx,endpoint = False)\n",
        "        phi_init = initial(x)\n",
        "        L = 200\n",
        "        \n",
        "        (E_SD,T) = SD(phi_init,Nx,times,s_time,e_time,left,right,L,M)\n",
        "\n",
        "        dir = \"SD\"\n",
        "        path1 = f\"{dir}/a{now}_{i}.png\"\n",
        "        now += 1\n",
        "        \n",
        "        plt.title(f'Energy at dt = 1/{dt_inv}')\n",
        "        plt.plot(T,E_SD[:-1],'-x')\n",
        "        plt.xlabel(\"t\")\n",
        "        plt.ylabel(\"E\")\n",
        "        plt.savefig(path1)\n",
        "        plt.clf()\n",
        "    M *= 10"
      ]
    },
    {
      "attachments": {},
      "cell_type": "markdown",
      "metadata": {},
      "source": [
        "# Self Attempt"
      ]
    },
    {
      "cell_type": "code",
      "execution_count": null,
      "metadata": {},
      "outputs": [],
      "source": [
        "#Self Attempt\n",
        "Times = [16,32,64,128,256,512]\n",
        "now = 1\n",
        "for times in Times:\n",
        "    dt_inv = (int)(times/(e_time-s_time))\n",
        "    dt = 1/dt_inv\n",
        "    Nx = times\n",
        "    x = np.linspace(left,right,Nx,endpoint = False)\n",
        "    phi_init = initial(x)\n",
        "    \n",
        "    (E_A4,T) = SAttempt(phi_init,Nx,times,s_time,e_time,left,right)\n",
        "\n",
        "    dir = \"Self Attempt\"\n",
        "    path1 = f\"{dir}/a{now}.png\"\n",
        "    now += 1\n",
        "    \n",
        "    plt.title(f'Energy at dt = 1/{dt_inv}')\n",
        "    plt.plot(T,E_A4[:-1],'-x')\n",
        "    plt.xlabel(\"t\")\n",
        "    plt.ylabel(\"E\")\n",
        "    plt.savefig(path1)\n",
        "    plt.clf()"
      ]
    }
  ],
  "metadata": {
    "accelerator": "TPU",
    "colab": {
      "provenance": [],
      "toc_visible": true
    },
    "gpuClass": "standard",
    "kernelspec": {
      "display_name": "Python 3 (ipykernel)",
      "language": "python",
      "name": "python3"
    },
    "language_info": {
      "codemirror_mode": {
        "name": "ipython",
        "version": 3
      },
      "file_extension": ".py",
      "mimetype": "text/x-python",
      "name": "python",
      "nbconvert_exporter": "python",
      "pygments_lexer": "ipython3",
      "version": "3.11.4"
    }
  },
  "nbformat": 4,
  "nbformat_minor": 0
}
